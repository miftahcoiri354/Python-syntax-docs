{
  "nbformat": 4,
  "nbformat_minor": 0,
  "metadata": {
    "colab": {
      "name": "Sympy Documentation.ipynb",
      "provenance": [],
      "collapsed_sections": [
        "ws0VY4fUSFOb",
        "LI9wrBAUg1MO",
        "1zidQCsTgnzk",
        "_8mYQaGPWk3R",
        "QdJOkWa0ZWc4",
        "DNkSTwdUcIOl",
        "B7V99BMEmFFu",
        "IPsNtZ9AmUoa",
        "q2k6lYPdp2JQ",
        "6VisEp3but_m",
        "cR-rKZm52BCK",
        "l37ycKkp2V6E",
        "BXg5LZJb3a7F",
        "xNGvuhR5ADHy",
        "Kd4ZRKypB6QB",
        "jWakQ5i3YUgG",
        "f-eYc4vRasCM",
        "5hZOZDjYe2mu",
        "bS7XyG28e2bw",
        "wPciWrWJ3B2T",
        "2Ybk7rvm3FsH",
        "IJX_AD-N3Rz2",
        "50MnBWYf3Vhq",
        "aM0IWNlY3cjc",
        "fpbX2ZdBhumf",
        "dBNnNzp_-Vix",
        "pAXdIuGdFWWM",
        "Myofhyl0Fbp3",
        "F2tzzdKEhyHY",
        "Qfpb1gS-L9FD",
        "osCDRRc-MApw",
        "IKSaMrtLMKB2",
        "VHonK00aMP7Z",
        "4MbPDSoaMX0p",
        "j3_-iA7vh1Kg",
        "ojoC-OcDa59-",
        "p67mdvdoa_Ka",
        "JWxnMlTObhT2"
      ],
      "authorship_tag": "ABX9TyMktOyRt8hRcA8ABW8d9RxF",
      "include_colab_link": true
    },
    "kernelspec": {
      "name": "python3",
      "display_name": "Python 3"
    }
  },
  "cells": [
    {
      "cell_type": "markdown",
      "metadata": {
        "id": "view-in-github",
        "colab_type": "text"
      },
      "source": [
        "<a href=\"https://colab.research.google.com/github/miftahcoiri354/Python-syntax-docs/blob/main/Sympy_Documentation.ipynb\" target=\"_parent\"><img src=\"https://colab.research.google.com/assets/colab-badge.svg\" alt=\"Open In Colab\"/></a>"
      ]
    },
    {
      "cell_type": "markdown",
      "metadata": {
        "id": "j3pzL7uRRD58"
      },
      "source": [
        "# **SymPy Tutorial**\r\n",
        "- Preliminaries\r\n",
        "- Introduction\r\n",
        "- Gotchas\r\n",
        "- Basic Operations\r\n",
        "- Printing\r\n",
        "- Simplification\r\n",
        "- Calculus\r\n",
        "- Solvers\r\n",
        "- Metrices\r\n",
        "- Advanced Expression Manipulation\r\n"
      ]
    },
    {
      "cell_type": "markdown",
      "metadata": {
        "id": "ws0VY4fUSFOb"
      },
      "source": [
        "-----\r\n",
        "### **0. Preliminaries**\r\n"
      ]
    },
    {
      "cell_type": "code",
      "metadata": {
        "id": "jKQQ5GyVh5GD"
      },
      "source": [
        "#change setting to enable the output in unicode\r\n",
        "import sympy as sp\r\n",
        "sp.init_printing(use_unicode=True)"
      ],
      "execution_count": null,
      "outputs": []
    },
    {
      "cell_type": "code",
      "metadata": {
        "colab": {
          "base_uri": "https://localhost:8080/",
          "height": 39
        },
        "id": "_WZwjy02Q8LW",
        "outputId": "454b4aa7-df84-461a-e508-203f62192c52"
      },
      "source": [
        "#Ini adalah contoh memanggil library sympy dan menjalankan sebuah fungsi\r\n",
        "from sympy import *\r\n",
        "x, y, z = symbols('x y z')\r\n",
        "a, b = symbols('a b')\r\n",
        "crazy = symbols('unrelated')\r\n",
        "\r\n",
        "a = Integral(cos(x)*exp(x), x)\r\n",
        "Eq(a, a.doit())"
      ],
      "execution_count": null,
      "outputs": [
        {
          "output_type": "execute_result",
          "data": {
            "image/png": "[encoded data removed]",
            "text/latex": "$$\\int e^{x} \\cos{\\left (x \\right )}\\, dx = \\frac{e^{x}}{2} \\sin{\\left (x \\right )} + \\frac{e^{x}}{2} \\cos{\\left (x \\right )}$$",
            "text/plain": [
              "⌠                 x           x       \n",
              "⎮  x             ℯ ⋅sin(x)   ℯ ⋅cos(x)\n",
              "⎮ ℯ ⋅cos(x) dx = ───────── + ─────────\n",
              "⌡                    2           2    "
            ]
          },
          "metadata": {
            "tags": []
          },
          "execution_count": 3
        }
      ]
    },
    {
      "cell_type": "markdown",
      "metadata": {
        "id": "LI9wrBAUg1MO"
      },
      "source": [
        "### **1. Introduction**\r\n"
      ]
    },
    {
      "cell_type": "code",
      "metadata": {
        "colab": {
          "base_uri": "https://localhost:8080/",
          "height": 89
        },
        "id": "2HOoohJxg-79",
        "outputId": "bb0c82f1-91b2-4b95-84bb-39b6551b84e9"
      },
      "source": [
        "import math\r\n",
        "print(math.sqrt(9))\r\n",
        "print(math.sqrt(8))\r\n",
        "print(sqrt(8))            #imported from sympy\r\n",
        "sqrt(8)"
      ],
      "execution_count": null,
      "outputs": [
        {
          "output_type": "stream",
          "text": [
            "3.0\n",
            "2.8284271247461903\n",
            "2*sqrt(2)\n"
          ],
          "name": "stdout"
        },
        {
          "output_type": "execute_result",
          "data": {
            "image/png": "[encoded data removed]",
            "text/latex": "$$2 \\sqrt{2}$$",
            "text/plain": [
              "2⋅√2"
            ]
          },
          "metadata": {
            "tags": []
          },
          "execution_count": 13
        }
      ]
    },
    {
      "cell_type": "code",
      "metadata": {
        "colab": {
          "base_uri": "https://localhost:8080/",
          "height": 39
        },
        "id": "KVanVCsQhfQo",
        "outputId": "300c1d41-43f6-4dc5-bda2-da51009ee0c6"
      },
      "source": [
        "x, y = symbols('x y')\r\n",
        "expr = x +2*y\r\n",
        "expr+1"
      ],
      "execution_count": null,
      "outputs": [
        {
          "output_type": "execute_result",
          "data": {
            "image/png": "[encoded data removed]",
            "text/latex": "$$x + 2 y + 1$$",
            "text/plain": [
              "x + 2*y + 1"
            ]
          },
          "metadata": {
            "tags": []
          },
          "execution_count": 6
        }
      ]
    },
    {
      "cell_type": "code",
      "metadata": {
        "colab": {
          "base_uri": "https://localhost:8080/",
          "height": 39
        },
        "id": "V9zLvom9j4DQ",
        "outputId": "79e1aa07-4c32-4cc3-b6f1-531b05525bef"
      },
      "source": [
        "diff(sin(x)*exp(x), x)"
      ],
      "execution_count": null,
      "outputs": [
        {
          "output_type": "execute_result",
          "data": {
            "image/png": "[encoded data removed]",
            "text/latex": "$$e^{x} \\sin{\\left (x \\right )} + e^{x} \\cos{\\left (x \\right )}$$",
            "text/plain": [
              " x           x       \n",
              "ℯ ⋅sin(x) + ℯ ⋅cos(x)"
            ]
          },
          "metadata": {
            "tags": []
          },
          "execution_count": 20
        }
      ]
    },
    {
      "cell_type": "code",
      "metadata": {
        "colab": {
          "base_uri": "https://localhost:8080/",
          "height": 39
        },
        "id": "XfjjC57ukPK5",
        "outputId": "7bad8872-1252-466c-ca77-635c99f25c14"
      },
      "source": [
        "integrate(exp(x)*sin(x)+exp(x)*cos(x),x)"
      ],
      "execution_count": null,
      "outputs": [
        {
          "output_type": "execute_result",
          "data": {
            "image/png": "[encoded data removed]",
            "text/latex": "$$e^{x} \\sin{\\left (x \\right )}$$",
            "text/plain": [
              " x       \n",
              "ℯ ⋅sin(x)"
            ]
          },
          "metadata": {
            "tags": []
          },
          "execution_count": 21
        }
      ]
    },
    {
      "cell_type": "code",
      "metadata": {
        "colab": {
          "base_uri": "https://localhost:8080/",
          "height": 42
        },
        "id": "VhO66yORkaeD",
        "outputId": "eee30df8-318f-46db-81c1-75815cf0f743"
      },
      "source": [
        "integrate(sin(x**2), (x, -oo, oo))"
      ],
      "execution_count": null,
      "outputs": [
        {
          "output_type": "execute_result",
          "data": {
            "image/png": "[encoded data removed]",
            "text/latex": "$$\\frac{\\sqrt{2} \\sqrt{\\pi}}{2}$$",
            "text/plain": [
              "√2⋅√π\n",
              "─────\n",
              "  2  "
            ]
          },
          "metadata": {
            "tags": []
          },
          "execution_count": 22
        }
      ]
    },
    {
      "cell_type": "code",
      "metadata": {
        "colab": {
          "base_uri": "https://localhost:8080/",
          "height": 37
        },
        "id": "s20aX5a4kjnd",
        "outputId": "65b6f8bd-9096-4764-ba5b-608d742633b2"
      },
      "source": [
        "limit(sin(x)/x, x, 0)"
      ],
      "execution_count": null,
      "outputs": [
        {
          "output_type": "execute_result",
          "data": {
            "image/png": "[encoded data removed]",
            "text/latex": "$$1$$",
            "text/plain": [
              "1"
            ]
          },
          "metadata": {
            "tags": []
          },
          "execution_count": 23
        }
      ]
    },
    {
      "cell_type": "code",
      "metadata": {
        "colab": {
          "base_uri": "https://localhost:8080/",
          "height": 39
        },
        "id": "iFUCyMz1krW4",
        "outputId": "0b4eefbb-a8a2-422d-f262-8b92087e6648"
      },
      "source": [
        "solve(x**2-2,x)"
      ],
      "execution_count": null,
      "outputs": [
        {
          "output_type": "execute_result",
          "data": {
            "image/png": "[encoded data removed]",
            "text/latex": "$$\\left [ - \\sqrt{2}, \\quad \\sqrt{2}\\right ]$$",
            "text/plain": [
              "[-√2, √2]"
            ]
          },
          "metadata": {
            "tags": []
          },
          "execution_count": 24
        }
      ]
    },
    {
      "cell_type": "code",
      "metadata": {
        "colab": {
          "base_uri": "https://localhost:8080/",
          "height": 39
        },
        "id": "fM42hZQvk3F2",
        "outputId": "ed8de262-b588-4eb7-e1b4-19dd605dce6d"
      },
      "source": [
        "t = symbols('t')\r\n",
        "dsolve(Eq(y(t).diff(t,t)-y(t), exp(t)), y(t))"
      ],
      "execution_count": null,
      "outputs": [
        {
          "output_type": "execute_result",
          "data": {
            "image/png": "[encoded data removed]",
            "text/latex": "$$y{\\left (t \\right )} = C_{2} e^{- t} + \\left(C_{1} + \\frac{t}{2}\\right) e^{t}$$",
            "text/plain": [
              "           -t   ⎛     t⎞  t\n",
              "y(t) = C₂⋅ℯ   + ⎜C₁ + ─⎟⋅ℯ \n",
              "                ⎝     2⎠   "
            ]
          },
          "metadata": {
            "tags": []
          },
          "execution_count": 26
        }
      ]
    },
    {
      "cell_type": "code",
      "metadata": {
        "colab": {
          "base_uri": "https://localhost:8080/",
          "height": 47
        },
        "id": "JZgPC9rXlOps",
        "outputId": "d34ff702-c386-466b-b491-b934141cb433"
      },
      "source": [
        "Matrix([[1,2],[2,2]]).eigenvals()"
      ],
      "execution_count": null,
      "outputs": [
        {
          "output_type": "execute_result",
          "data": {
            "image/png": "[encoded data removed]",
            "text/latex": "$$\\left \\{ \\frac{3}{2} + \\frac{\\sqrt{17}}{2} : 1, \\quad - \\frac{\\sqrt{17}}{2} + \\frac{3}{2} : 1\\right \\}$$",
            "text/plain": [
              "⎧3   √17       √17   3   ⎫\n",
              "⎨─ + ───: 1, - ─── + ─: 1⎬\n",
              "⎩2    2         2    2   ⎭"
            ]
          },
          "metadata": {
            "tags": []
          },
          "execution_count": 27
        }
      ]
    },
    {
      "cell_type": "code",
      "metadata": {
        "colab": {
          "base_uri": "https://localhost:8080/",
          "height": 39
        },
        "id": "eunrPbXaljuD",
        "outputId": "921c7e51-a241-4618-f901-448bd5221cca"
      },
      "source": [
        "nu, z, jn = symbols('nu z jn')\r\n",
        "besselj(nu, z).rewrite(jn)"
      ],
      "execution_count": null,
      "outputs": [
        {
          "output_type": "execute_result",
          "data": {
            "image/png": "[encoded data removed]",
            "text/latex": "$$J_{\\nu}\\left(z\\right)$$",
            "text/plain": [
              "besselj(ν, z)"
            ]
          },
          "metadata": {
            "tags": []
          },
          "execution_count": 28
        }
      ]
    },
    {
      "cell_type": "markdown",
      "metadata": {
        "id": "1zidQCsTgnzk"
      },
      "source": [
        "### **2. Gotchas**\r\n"
      ]
    },
    {
      "cell_type": "markdown",
      "metadata": {
        "id": "_8mYQaGPWk3R"
      },
      "source": [
        "##### **2.a Symbols**"
      ]
    },
    {
      "cell_type": "code",
      "metadata": {
        "colab": {
          "base_uri": "https://localhost:8080/"
        },
        "id": "CoGJVbK0SwJA",
        "outputId": "71eee574-9eac-41f4-e2f8-3733cf16fb22"
      },
      "source": [
        "#fungsi expr hanya memanggil nilai x yang ada diatasnya\r\n",
        "expr = x + 1\r\n",
        "x = 2\r\n",
        "print(expr)\r\n",
        "x = 'abc'\r\n",
        "expr = x + 'def'\r\n",
        "print(expr)\r\n",
        "#Setiap kali memanggil x, harus mendeklarasikan x nya lagi dengan sysmbols('x')\r\n",
        "x = symbols('x')\r\n",
        "expr = x + 1\r\n",
        "print(expr.subs(x, 3))"
      ],
      "execution_count": null,
      "outputs": [
        {
          "output_type": "stream",
          "text": [
            "x + 1\n",
            "abcdef\n",
            "4\n"
          ],
          "name": "stdout"
        }
      ]
    },
    {
      "cell_type": "markdown",
      "metadata": {
        "id": "QdJOkWa0ZWc4"
      },
      "source": [
        "##### **2.b Equals Signs** : Eq(), simplify()"
      ]
    },
    {
      "cell_type": "code",
      "metadata": {
        "colab": {
          "base_uri": "https://localhost:8080/",
          "height": 56
        },
        "id": "uSMTh_VQWJxc",
        "outputId": "c8ffdaf1-136e-4594-c2bf-7009709b1897"
      },
      "source": [
        "#kita tidak bisa mendeklarasikan persamaan seperti berikut ini, maka dari itu kita perlu menambahkan Eq(statement1, statement2)\r\n",
        "x = symbols('x')\r\n",
        "print(x + 2 == 4)\r\n",
        "Eq(x + 2, 4)"
      ],
      "execution_count": null,
      "outputs": [
        {
          "output_type": "stream",
          "text": [
            "False\n"
          ],
          "name": "stdout"
        },
        {
          "output_type": "execute_result",
          "data": {
            "image/png": "[encoded data removed]",
            "text/latex": "$$x + 2 = 4$$",
            "text/plain": [
              "x + 2 = 4"
            ]
          },
          "metadata": {
            "tags": []
          },
          "execution_count": 16
        }
      ]
    },
    {
      "cell_type": "code",
      "metadata": {
        "colab": {
          "base_uri": "https://localhost:8080/",
          "height": 56
        },
        "id": "Imeg7KqjaO6B",
        "outputId": "0729fafc-a5af-48ee-91d8-5d1310779d43"
      },
      "source": [
        "#kita dapat mengeksekusi fungsi 2 persamaan menggunakan simplify()\r\n",
        "a = (x+1)**2\r\n",
        "b = x**2 + 2*x + 1\r\n",
        "c = x**2 - 2*x + 1\r\n",
        "print(simplify(a-b))\r\n",
        "simplify(a-c)"
      ],
      "execution_count": null,
      "outputs": [
        {
          "output_type": "stream",
          "text": [
            "0\n"
          ],
          "name": "stdout"
        },
        {
          "output_type": "execute_result",
          "data": {
            "image/png": "[encoded data removed]",
            "text/latex": "$$4 x$$",
            "text/plain": [
              "4⋅x"
            ]
          },
          "metadata": {
            "tags": []
          },
          "execution_count": 17
        }
      ]
    },
    {
      "cell_type": "markdown",
      "metadata": {
        "id": "DNkSTwdUcIOl"
      },
      "source": [
        "##### **2.c Two Final Notes: ^ and /**"
      ]
    },
    {
      "cell_type": "code",
      "metadata": {
        "colab": {
          "base_uri": "https://localhost:8080/",
          "height": 73
        },
        "id": "DNv2gBGVax3I",
        "outputId": "58ca87e3-8154-4a0b-d258-51181533a6c3"
      },
      "source": [
        "#fungsi Xor() di sympy\r\n",
        "print(True ^ False)\r\n",
        "print(True ^ True)\r\n",
        "Xor(x,y)"
      ],
      "execution_count": null,
      "outputs": [
        {
          "output_type": "stream",
          "text": [
            "True\n",
            "False\n"
          ],
          "name": "stdout"
        },
        {
          "output_type": "execute_result",
          "data": {
            "image/png": "[encoded data removed]",
            "text/latex": "$$x \\veebar y$$",
            "text/plain": [
              "x ⊻ y"
            ]
          },
          "metadata": {
            "tags": []
          },
          "execution_count": 18
        }
      ]
    },
    {
      "cell_type": "code",
      "metadata": {
        "colab": {
          "base_uri": "https://localhost:8080/",
          "height": 91
        },
        "id": "CwhLhVQickxi",
        "outputId": "784da9ed-4ac2-48d8-adab-6bb167311a48"
      },
      "source": [
        "#sympy division of two integers gives a rational\r\n",
        "from __future__ import division\r\n",
        "print(1/3)\r\n",
        "print(Integer(1)/Integer(3))\r\n",
        "print(Rational(1,3))\r\n",
        "x + Rational(1,3)"
      ],
      "execution_count": null,
      "outputs": [
        {
          "output_type": "stream",
          "text": [
            "0.3333333333333333\n",
            "1/3\n",
            "1/3\n"
          ],
          "name": "stdout"
        },
        {
          "output_type": "execute_result",
          "data": {
            "image/png": "[encoded data removed]",
            "text/latex": "$$x + \\frac{1}{3}$$",
            "text/plain": [
              "x + 1/3"
            ]
          },
          "metadata": {
            "tags": []
          },
          "execution_count": 19
        }
      ]
    },
    {
      "cell_type": "markdown",
      "metadata": {
        "id": "B7V99BMEmFFu"
      },
      "source": [
        "### **3. Basic Operations**"
      ]
    },
    {
      "cell_type": "markdown",
      "metadata": {
        "id": "IPsNtZ9AmUoa"
      },
      "source": [
        "##### **3.a Substitution**"
      ]
    },
    {
      "cell_type": "code",
      "metadata": {
        "colab": {
          "base_uri": "https://localhost:8080/",
          "height": 56
        },
        "id": "sBYyozqndnUF",
        "outputId": "e3487dc6-1079-4a5b-b462-32dce6d08f60"
      },
      "source": [
        "from sympy import *\r\n",
        "x, y, z = symbols(\"x y z\")\r\n",
        "expr = cos(x)+1\r\n",
        "print(expr.subs(x, 0))\r\n",
        "expr.subs(x, y)"
      ],
      "execution_count": null,
      "outputs": [
        {
          "output_type": "stream",
          "text": [
            "2\n"
          ],
          "name": "stdout"
        },
        {
          "output_type": "execute_result",
          "data": {
            "image/png": "[encoded data removed]",
            "text/latex": "$$\\cos{\\left (y \\right )} + 1$$",
            "text/plain": [
              "cos(y) + 1"
            ]
          },
          "metadata": {
            "tags": []
          },
          "execution_count": 30
        }
      ]
    },
    {
      "cell_type": "code",
      "metadata": {
        "colab": {
          "base_uri": "https://localhost:8080/",
          "height": 41
        },
        "id": "9RlEZJ7lmnxu",
        "outputId": "d2b23079-0f91-4984-839a-8f3fa470df6f"
      },
      "source": [
        "expr = x**y\r\n",
        "expr = expr.subs(y, x**y)\r\n",
        "expr = expr.subs(y, x**x)\r\n",
        "expr"
      ],
      "execution_count": null,
      "outputs": [
        {
          "output_type": "execute_result",
          "data": {
            "image/png": "[encoded data removed]",
            "text/latex": "$$x^{x^{x^{x}}}$$",
            "text/plain": [
              " ⎛ ⎛ x⎞⎞\n",
              " ⎜ ⎝x ⎠⎟\n",
              " ⎝x    ⎠\n",
              "x       "
            ]
          },
          "metadata": {
            "tags": []
          },
          "execution_count": 32
        }
      ]
    },
    {
      "cell_type": "code",
      "metadata": {
        "colab": {
          "base_uri": "https://localhost:8080/",
          "height": 39
        },
        "id": "e5MsFSIDnRDU",
        "outputId": "f82b012b-4c1c-45bb-fac3-bae1849b62d7"
      },
      "source": [
        "expr = sin(2*x) + cos(2*x)\r\n",
        "expand_trig(expr)"
      ],
      "execution_count": null,
      "outputs": [
        {
          "output_type": "execute_result",
          "data": {
            "image/png": "[encoded data removed]",
            "text/latex": "$$2 \\sin{\\left (x \\right )} \\cos{\\left (x \\right )} + 2 \\cos^{2}{\\left (x \\right )} - 1$$",
            "text/plain": [
              "                       2       \n",
              "2⋅sin(x)⋅cos(x) + 2⋅cos (x) - 1"
            ]
          },
          "metadata": {
            "tags": []
          },
          "execution_count": 33
        }
      ]
    },
    {
      "cell_type": "code",
      "metadata": {
        "colab": {
          "base_uri": "https://localhost:8080/",
          "height": 39
        },
        "id": "7AKekDrJnigB",
        "outputId": "2c99ab40-d231-4340-8e57-4ecd43d20e29"
      },
      "source": [
        "expr.subs(sin(2*x), 2*sin(x)*cos(x))"
      ],
      "execution_count": null,
      "outputs": [
        {
          "output_type": "execute_result",
          "data": {
            "image/png": "[encoded data removed]",
            "text/latex": "$$2 \\sin{\\left (x \\right )} \\cos{\\left (x \\right )} + \\cos{\\left (2 x \\right )}$$",
            "text/plain": [
              "2⋅sin(x)⋅cos(x) + cos(2⋅x)"
            ]
          },
          "metadata": {
            "tags": []
          },
          "execution_count": 34
        }
      ]
    },
    {
      "cell_type": "code",
      "metadata": {
        "colab": {
          "base_uri": "https://localhost:8080/",
          "height": 56
        },
        "id": "dPlUMHFtpabc",
        "outputId": "469a2b37-2c07-454b-c7fd-259ba19565ce"
      },
      "source": [
        "expr = x**3 + 4*x*y - z\r\n",
        "print(expr.subs([(x, 2), (y, 4), (z,0)]))\r\n",
        "expr"
      ],
      "execution_count": null,
      "outputs": [
        {
          "output_type": "stream",
          "text": [
            "40\n"
          ],
          "name": "stdout"
        },
        {
          "output_type": "execute_result",
          "data": {
            "image/png": "[encoded data removed]",
            "text/latex": "$$x^{3} + 4 x y - z$$",
            "text/plain": [
              " 3            \n",
              "x  + 4⋅x⋅y - z"
            ]
          },
          "metadata": {
            "tags": []
          },
          "execution_count": 42
        }
      ]
    },
    {
      "cell_type": "code",
      "metadata": {
        "colab": {
          "base_uri": "https://localhost:8080/",
          "height": 56
        },
        "id": "Of8XWP1Rn4W_",
        "outputId": "ed06de7a-ee00-4502-b148-13587eff99e0"
      },
      "source": [
        "expr = x**4 - 4*x**3 + 4*x**2 - 2*x + 3\r\n",
        "replacements = [(x**i, y**i) for i in range(5) if i%2 == 0]\r\n",
        "expr.subs(replacements)"
      ],
      "execution_count": null,
      "outputs": [
        {
          "output_type": "stream",
          "text": [
            "40\n"
          ],
          "name": "stdout"
        },
        {
          "output_type": "execute_result",
          "data": {
            "image/png": "[encoded data removed]",
            "text/latex": "$$- 4 x^{3} - 2 x + y^{4} + 4 y^{2} + 3$$",
            "text/plain": [
              "     3          4      2    \n",
              "- 4⋅x  - 2⋅x + y  + 4⋅y  + 3"
            ]
          },
          "metadata": {
            "tags": []
          },
          "execution_count": 39
        }
      ]
    },
    {
      "cell_type": "code",
      "metadata": {
        "colab": {
          "base_uri": "https://localhost:8080/",
          "height": 39
        },
        "id": "d1wvrsXPpGKo",
        "outputId": "35f71be1-5259-483f-dd9d-44a44382f964"
      },
      "source": [
        "expr"
      ],
      "execution_count": null,
      "outputs": [
        {
          "output_type": "execute_result",
          "data": {
            "image/png": "[encoded data removed]",
            "text/latex": "$$x^{4} - 4 x^{3} + 4 x^{2} - 2 x + 3$$",
            "text/plain": [
              " 4      3      2          \n",
              "x  - 4⋅x  + 4⋅x  - 2⋅x + 3"
            ]
          },
          "metadata": {
            "tags": []
          },
          "execution_count": 41
        }
      ]
    },
    {
      "cell_type": "code",
      "metadata": {
        "colab": {
          "base_uri": "https://localhost:8080/",
          "height": 39
        },
        "id": "LVV0zqpGo8F_",
        "outputId": "4caf4110-2e0e-4a95-aca6-6a917e80bac8"
      },
      "source": [
        "replacements"
      ],
      "execution_count": null,
      "outputs": [
        {
          "output_type": "execute_result",
          "data": {
            "image/png": "[encoded data removed]",
            "text/latex": "$$\\left [ \\left ( 1, \\quad 1\\right ), \\quad \\left ( x^{2}, \\quad y^{2}\\right ), \\quad \\left ( x^{4}, \\quad y^{4}\\right )\\right ]$$",
            "text/plain": [
              "⎡        ⎛ 2   2⎞  ⎛ 4   4⎞⎤\n",
              "⎣(1, 1), ⎝x , y ⎠, ⎝x , y ⎠⎦"
            ]
          },
          "metadata": {
            "tags": []
          },
          "execution_count": 40
        }
      ]
    },
    {
      "cell_type": "markdown",
      "metadata": {
        "id": "q2k6lYPdp2JQ"
      },
      "source": [
        "##### **3.b Converting Strings to Sympy Expressions**\r\n",
        "- evalf()\r\n",
        "- lambdify()"
      ]
    },
    {
      "cell_type": "code",
      "metadata": {
        "colab": {
          "base_uri": "https://localhost:8080/",
          "height": 39
        },
        "id": "KUez10CepYos",
        "outputId": "3a573b53-36bb-4003-d20c-fdb99115ab82"
      },
      "source": [
        "# Use sympify to convert strings to sympy expression\r\n",
        "str_expr = \"x**2 + 3*x - 1/2\"\r\n",
        "expr = sympify(str_expr)\r\n",
        "expr"
      ],
      "execution_count": null,
      "outputs": [
        {
          "output_type": "execute_result",
          "data": {
            "image/png": "[encoded data removed]",
            "text/latex": "$$x^{2} + 3 x - \\frac{1}{2}$$",
            "text/plain": [
              " 2         1\n",
              "x  + 3⋅x - ─\n",
              "           2"
            ]
          },
          "metadata": {
            "tags": []
          },
          "execution_count": 43
        }
      ]
    },
    {
      "cell_type": "code",
      "metadata": {
        "colab": {
          "base_uri": "https://localhost:8080/"
        },
        "id": "LNk8ojCKp9Ax",
        "outputId": "ae988674-891a-4106-f306-5b20e61b7e9a"
      },
      "source": [
        "# How to use evalf()\r\n",
        "expr = sqrt(8)\r\n",
        "print(expr)\r\n",
        "print(expr.evalf())\r\n",
        "print(pi.evalf(100))\r\n",
        "expr = cos(2*x)\r\n",
        "print(expr.evalf(subs={x: 2.4}))\r\n",
        "one = cos(1)**2 + sin(1)**2\r\n",
        "print((one - 1).evalf())\r\n",
        "print((one - 1).evalf(chop=True))"
      ],
      "execution_count": null,
      "outputs": [
        {
          "output_type": "stream",
          "text": [
            "2*sqrt(2)\n",
            "2.82842712474619\n",
            "3.141592653589793238462643383279502884197169399375105820974944592307816406286208998628034825342117068\n",
            "0.0874989834394464\n",
            "-0.e-124\n",
            "0\n"
          ],
          "name": "stdout"
        }
      ]
    },
    {
      "cell_type": "code",
      "metadata": {
        "colab": {
          "base_uri": "https://localhost:8080/"
        },
        "id": "0hR4M9JrseaB",
        "outputId": "8e63a733-6a41-4a5d-852e-d805ecf4faf5"
      },
      "source": [
        "# How to use lambdify\r\n",
        "import numpy\r\n",
        "a = numpy.arange(10)\r\n",
        "expr = sin(x)\r\n",
        "f = lambdify(x, expr, \"numpy\")  #works for multiple value in array\r\n",
        "print(f(a))\r\n",
        "f = lambdify(x, expr, \"math\")\r\n",
        "print(f(0.1))                   #only works if the input is one value\r\n",
        "def mysin(x): return x\r\n",
        "f = lambdify(x, expr, {\"sin\":mysin})\r\n",
        "print(f(0.1))                   #this is only accurate for small x"
      ],
      "execution_count": null,
      "outputs": [
        {
          "output_type": "stream",
          "text": [
            "[ 0.          0.84147098  0.90929743  0.14112001 -0.7568025  -0.95892427\n",
            " -0.2794155   0.6569866   0.98935825  0.41211849]\n",
            "0.09983341664682815\n",
            "0.1\n"
          ],
          "name": "stdout"
        }
      ]
    },
    {
      "cell_type": "markdown",
      "metadata": {
        "id": "6VisEp3but_m"
      },
      "source": [
        "### **4. Printing**"
      ]
    },
    {
      "cell_type": "code",
      "metadata": {
        "colab": {
          "base_uri": "https://localhost:8080/"
        },
        "id": "gG_RVp_jtln0",
        "outputId": "6eb42f8f-2109-426f-a067-ee93f75fa007"
      },
      "source": [
        "from sympy import init_printing\r\n",
        "init_printing()\r\n",
        "pprint(Integral(sqrt(1/x), x), use_unicode=False)"
      ],
      "execution_count": null,
      "outputs": [
        {
          "output_type": "stream",
          "text": [
            "  /          \n",
            " |           \n",
            " |     ___   \n",
            " |    / 1    \n",
            " |   /  -  dx\n",
            " | \\/   x    \n",
            " |           \n",
            "/            \n"
          ],
          "name": "stdout"
        }
      ]
    },
    {
      "cell_type": "code",
      "metadata": {
        "colab": {
          "base_uri": "https://localhost:8080/",
          "height": 48
        },
        "id": "5QHQRice1K4J",
        "outputId": "f70a0407-c223-4fcf-fea8-473aa9db7ccb"
      },
      "source": [
        "Integral(sqrt(1/x), x)"
      ],
      "execution_count": null,
      "outputs": [
        {
          "output_type": "execute_result",
          "data": {
            "image/png": "[encoded data removed]",
            "text/latex": "$$\\int \\sqrt{\\frac{1}{x}}\\, dx$$",
            "text/plain": [
              "⌠           \n",
              "⎮     ___   \n",
              "⎮    ╱ 1    \n",
              "⎮   ╱  ─  dx\n",
              "⎮ ╲╱   x    \n",
              "⌡           "
            ]
          },
          "metadata": {
            "tags": []
          },
          "execution_count": 64
        }
      ]
    },
    {
      "cell_type": "code",
      "metadata": {
        "colab": {
          "base_uri": "https://localhost:8080/"
        },
        "id": "xw3XA95O1UTJ",
        "outputId": "a9986fbc-4058-4d60-b7ea-84f5bcc861b1"
      },
      "source": [
        "print(pretty(Integral(sqrt(1/x), x), use_unicode=False))"
      ],
      "execution_count": null,
      "outputs": [
        {
          "output_type": "stream",
          "text": [
            "  /          \n",
            " |           \n",
            " |     ___   \n",
            " |    / 1    \n",
            " |   /  -  dx\n",
            " | \\/   x    \n",
            " |           \n",
            "/            \n"
          ],
          "name": "stdout"
        }
      ]
    },
    {
      "cell_type": "code",
      "metadata": {
        "colab": {
          "base_uri": "https://localhost:8080/"
        },
        "id": "-2rtDnLq1tb4",
        "outputId": "e11d9da0-4ba3-4f71-b701-40a144f91fc0"
      },
      "source": [
        "from sympy.printing.mathml import print_mathml\r\n",
        "print_mathml(Integral(sqrt(1/x), x))"
      ],
      "execution_count": null,
      "outputs": [
        {
          "output_type": "stream",
          "text": [
            "<apply>\n",
            "\t<int/>\n",
            "\t<bvar>\n",
            "\t\t<ci>x</ci>\n",
            "\t</bvar>\n",
            "\t<apply>\n",
            "\t\t<root/>\n",
            "\t\t<apply>\n",
            "\t\t\t<power/>\n",
            "\t\t\t<ci>x</ci>\n",
            "\t\t\t<cn>-1</cn>\n",
            "\t\t</apply>\n",
            "\t</apply>\n",
            "</apply>\n",
            "\n"
          ],
          "name": "stdout"
        }
      ]
    },
    {
      "cell_type": "markdown",
      "metadata": {
        "id": "cR-rKZm52BCK"
      },
      "source": [
        "### **5. Simplification**"
      ]
    },
    {
      "cell_type": "markdown",
      "metadata": {
        "id": "l37ycKkp2V6E"
      },
      "source": [
        "##### **5.a Simplify** : used to simplify mathematic expressions"
      ]
    },
    {
      "cell_type": "code",
      "metadata": {
        "colab": {
          "base_uri": "https://localhost:8080/"
        },
        "id": "edSU5WDT2G5l",
        "outputId": "f5838e4d-3665-486a-9857-e951bc0825a8"
      },
      "source": [
        "from sympy import *\r\n",
        "x, y, z = symbols('x y z')\r\n",
        "pprint(simplify(sin(x)**2+cos(x)**2))\r\n",
        "pprint(simplify((x**3+x**2-x-1)/(x**2+2*x+1)))\r\n",
        "pprint(simplify(gamma(x)/gamma(x-2)))\r\n",
        "pprint(simplify(x**2+x*2+1))"
      ],
      "execution_count": null,
      "outputs": [
        {
          "output_type": "stream",
          "text": [
            "1\n",
            "x - 1\n",
            "(x - 2)⋅(x - 1)\n",
            " 2          \n",
            "x  + 2⋅x + 1\n"
          ],
          "name": "stdout"
        }
      ]
    },
    {
      "cell_type": "markdown",
      "metadata": {
        "id": "BXg5LZJb3a7F"
      },
      "source": [
        "##### **5.b Polynomial/Rational Function Simplification**\r\n",
        "- *Expand* : is one of the most common simplification in expanding polynomial expressions. It's make expression bigger, not smaller\r\n",
        "- *Factor* : takes a polynomial and factors it into irreducible factors over the rational numbers.opposite with expand, it returns a more structured output.\r\n",
        "- *Collect* :common powers of a term in an expression\r\n",
        "- *Cancel* : will take any rational function and put it into the standard canonical form, p/q, where p and q are expanded polynomials with no common factors, and the leading coefficients of p and q don't have denominators(i.e. are integers).\r\n",
        "- *Apart* : performs a partial fraction decomposition on a rational function."
      ]
    },
    {
      "cell_type": "code",
      "metadata": {
        "colab": {
          "base_uri": "https://localhost:8080/"
        },
        "id": "7bRNDqjN3Bwi",
        "outputId": "1ec25357-4a1e-470e-f96f-afb85c4f8715"
      },
      "source": [
        "pprint(expand((x+1)**2))\r\n",
        "pprint(expand((x+2)*(x-3)))\r\n",
        "pprint(expand((x+1)*(x-2)-(x-1)*x))"
      ],
      "execution_count": null,
      "outputs": [
        {
          "output_type": "stream",
          "text": [
            " 2          \n",
            "x  + 2⋅x + 1\n",
            " 2        \n",
            "x  - x - 6\n",
            "-2\n"
          ],
          "name": "stdout"
        }
      ]
    },
    {
      "cell_type": "code",
      "metadata": {
        "colab": {
          "base_uri": "https://localhost:8080/"
        },
        "id": "tU43FwVR3zPu",
        "outputId": "38f3eebd-46c0-4ad0-b48c-dd684029e3d1"
      },
      "source": [
        "print(factor(x**3-x**2 + x-1))\r\n",
        "print(factor(x**2**z+4*x*y*z+4*y**2*z))\r\n",
        "print(factor_list(x**2*z + 4*z*y*z + 4*y**2*z))"
      ],
      "execution_count": null,
      "outputs": [
        {
          "output_type": "stream",
          "text": [
            "(x - 1)*(x**2 + 1)\n",
            "4*x*y*z + x**(2**z) + 4*y**2*z\n",
            "(1, [(z, 1), (x**2 + 4*y**2 + 4*y*z, 1)])\n"
          ],
          "name": "stdout"
        }
      ]
    },
    {
      "cell_type": "code",
      "metadata": {
        "colab": {
          "base_uri": "https://localhost:8080/"
        },
        "id": "3VntrYsk5vfk",
        "outputId": "e418ed36-343f-4359-a3f0-2ba05a91cf12"
      },
      "source": [
        "#Comparison between factor & expand\r\n",
        "pprint(expand((cos(x)+sin(x))**2))\r\n",
        "pprint(factor(cos(x)**2+2*cos(x)*sin(x)+sin(x)**2))"
      ],
      "execution_count": null,
      "outputs": [
        {
          "output_type": "stream",
          "text": [
            "   2                           2   \n",
            "sin (x) + 2⋅sin(x)⋅cos(x) + cos (x)\n",
            "                 2\n",
            "(sin(x) + cos(x)) \n"
          ],
          "name": "stdout"
        }
      ]
    },
    {
      "cell_type": "code",
      "metadata": {
        "colab": {
          "base_uri": "https://localhost:8080/",
          "height": 39
        },
        "id": "Y2M_H-z17O6K",
        "outputId": "a4eb7624-e4bc-4392-9538-3d7d004e1150"
      },
      "source": [
        "expr = x*y + x - 3 + 2*x**2 - z*x**2 + x**3\r\n",
        "expr"
      ],
      "execution_count": null,
      "outputs": [
        {
          "output_type": "execute_result",
          "data": {
            "image/png": "[encoded data removed]",
            "text/latex": "$$x^{3} - x^{2} z + 2 x^{2} + x y + x - 3$$",
            "text/plain": [
              " 3    2        2              \n",
              "x  - x ⋅z + 2⋅x  + x⋅y + x - 3"
            ]
          },
          "metadata": {
            "tags": []
          },
          "execution_count": 90
        }
      ]
    },
    {
      "cell_type": "code",
      "metadata": {
        "colab": {
          "base_uri": "https://localhost:8080/",
          "height": 39
        },
        "id": "kZNuM_W47bur",
        "outputId": "025508b8-cf25-4abe-8706-1ef950051fc5"
      },
      "source": [
        "collect(expr, x)"
      ],
      "execution_count": null,
      "outputs": [
        {
          "output_type": "execute_result",
          "data": {
            "image/png": "[encoded data removed]",
            "text/latex": "$$x^{3} + x^{2} \\left(- z + 2\\right) + x \\left(y + 1\\right) - 3$$",
            "text/plain": [
              " 3    2                         \n",
              "x  + x ⋅(-z + 2) + x⋅(y + 1) - 3"
            ]
          },
          "metadata": {
            "tags": []
          },
          "execution_count": 91
        }
      ]
    },
    {
      "cell_type": "code",
      "metadata": {
        "colab": {
          "base_uri": "https://localhost:8080/",
          "height": 39
        },
        "id": "YA96TLoT7m_6",
        "outputId": "348bec68-b77c-4d5e-910a-ad5a1a440a10"
      },
      "source": [
        "#expr.coeff(x,n) gives the coefficient of x**n in expr\r\n",
        "collect(expr, x).coeff(x, 2)"
      ],
      "execution_count": null,
      "outputs": [
        {
          "output_type": "execute_result",
          "data": {
            "image/png": "[encoded data removed]",
            "text/latex": "$$- z + 2$$",
            "text/plain": [
              "-z + 2"
            ]
          },
          "metadata": {
            "tags": []
          },
          "execution_count": 92
        }
      ]
    },
    {
      "cell_type": "code",
      "metadata": {
        "colab": {
          "base_uri": "https://localhost:8080/",
          "height": 403
        },
        "id": "UJjCTgCD7yps",
        "outputId": "d1975aba-82db-44a1-eea6-a9a48c3073e0"
      },
      "source": [
        "pprint(cancel((x**2+2*x+1)/(x**2+x)))\r\n",
        "expr = 1/x + (3*x/2-2)/(x-4)\r\n",
        "pprint(expr)\r\n",
        "pprint(cancel(expr))\r\n",
        "expr = (x*y**2-2*x*y*z+x*z**2+y**2-2*y*z+z**2)/(x**2-1)\r\n",
        "pprint(cancel(expr))\r\n",
        "pprint(factor(exprc                                            ))\r\n",
        "expr"
      ],
      "execution_count": null,
      "outputs": [
        {
          "output_type": "stream",
          "text": [
            "x + 1\n",
            "─────\n",
            "  x  \n",
            "3⋅x        \n",
            "─── - 2    \n",
            " 2        1\n",
            "─────── + ─\n",
            " x - 4    x\n",
            "   2          \n",
            "3⋅x  - 2⋅x - 8\n",
            "──────────────\n",
            "     2        \n",
            "  2⋅x  - 8⋅x  \n",
            " 2            2\n",
            "y  - 2⋅y⋅z + z \n",
            "───────────────\n",
            "     x - 1     \n",
            "       2\n",
            "(y - z) \n",
            "────────\n",
            " x - 1  \n"
          ],
          "name": "stdout"
        },
        {
          "output_type": "execute_result",
          "data": {
            "image/png": "[encoded data removed]",
            "text/latex": "$$\\frac{1}{x^{2} - 1} \\left(x y^{2} - 2 x y z + x z^{2} + y^{2} - 2 y z + z^{2}\\right)$$",
            "text/plain": [
              "   2                2    2            2\n",
              "x⋅y  - 2⋅x⋅y⋅z + x⋅z  + y  - 2⋅y⋅z + z \n",
              "───────────────────────────────────────\n",
              "                  2                    \n",
              "                 x  - 1                "
            ]
          },
          "metadata": {
            "tags": []
          },
          "execution_count": 102
        }
      ]
    },
    {
      "cell_type": "code",
      "metadata": {
        "colab": {
          "base_uri": "https://localhost:8080/"
        },
        "id": "ZfPnwi_U81qq",
        "outputId": "99b39c4a-d800-41e7-bd57-f0714b14c0af"
      },
      "source": [
        "expr = (4*x**3+21*x**2+10*x+12)/(x**4+5*x**3+5*x**2+4*x)\r\n",
        "pprint(expr)\r\n",
        "pprint(apart(expr))"
      ],
      "execution_count": null,
      "outputs": [
        {
          "output_type": "stream",
          "text": [
            "   3       2            \n",
            "4⋅x  + 21⋅x  + 10⋅x + 12\n",
            "────────────────────────\n",
            "  4      3      2       \n",
            " x  + 5⋅x  + 5⋅x  + 4⋅x \n",
            " 2⋅x - 1       1     3\n",
            "────────── - ───── + ─\n",
            " 2           x + 4   x\n",
            "x  + x + 1            \n"
          ],
          "name": "stdout"
        }
      ]
    },
    {
      "cell_type": "markdown",
      "metadata": {
        "id": "xNGvuhR5ADHy"
      },
      "source": [
        "##### **5.c Trigonometric Simplification**\r\n",
        "- *trigsimp*: to simplify expressions using trigonometric identities.\r\n",
        "- *expand*: to applies various trigonometric identities to the input expression, and then uses a heuristic to return the \"best\" one.\r\n"
      ]
    },
    {
      "cell_type": "code",
      "metadata": {
        "colab": {
          "base_uri": "https://localhost:8080/"
        },
        "id": "MlBWUBZgACsT",
        "outputId": "74ab75e6-ea85-4ac8-af81-537fa2157272"
      },
      "source": [
        "pprint(trigsimp(sin(x)**2+cos(x)**2))\r\n",
        "pprint(trigsimp(sin(x)**4 - 2*cos(x)**2*sin(x)**2 + cos(x)**4))\r\n",
        "pprint(trigsimp(sin(x)*tan(x)/sec(x)))\r\n",
        "pprint(trigsimp(cosh(x)**2+sinh(x)**2))\r\n",
        "pprint(trigsimp(sinh(x)/tanh(x)))"
      ],
      "execution_count": null,
      "outputs": [
        {
          "output_type": "stream",
          "text": [
            "1\n",
            "cos(4⋅x)   1\n",
            "──────── + ─\n",
            "   2       2\n",
            "   2   \n",
            "sin (x)\n",
            "cosh(2⋅x)\n",
            "cosh(x)\n"
          ],
          "name": "stdout"
        }
      ]
    },
    {
      "cell_type": "code",
      "metadata": {
        "colab": {
          "base_uri": "https://localhost:8080/"
        },
        "id": "X0wug58TBPmU",
        "outputId": "c4a3c3b7-89bc-486a-87ec-5e518307b56d"
      },
      "source": [
        "pprint(expand_trig(sin(x+y)))\r\n",
        "pprint(expand_trig(tan(2*x)))\r\n",
        "pprint(trigsimp(sin(x)*cos(y)+sin(y)*cos(x)))"
      ],
      "execution_count": null,
      "outputs": [
        {
          "output_type": "stream",
          "text": [
            "sin(x)⋅cos(y) + sin(y)⋅cos(x)\n",
            "   2⋅tan(x)  \n",
            "─────────────\n",
            "     2       \n",
            "- tan (x) + 1\n",
            "sin(x + y)\n"
          ],
          "name": "stdout"
        }
      ]
    },
    {
      "cell_type": "markdown",
      "metadata": {
        "id": "Kd4ZRKypB6QB"
      },
      "source": [
        "##### **5.d Powers**\r\n",
        "- *powsimp*: applies identities 1 and 2 from above, from left to right.\r\n",
        "- *expand_power_exp/expand_power_base*: apply identities 1 and 2 from right to left, respectively.\r\n",
        "- *powdenest*: applies identity 3, from left to right.\r\n"
      ]
    },
    {
      "cell_type": "code",
      "metadata": {
        "colab": {
          "base_uri": "https://localhost:8080/"
        },
        "id": "Pj99V7AwCISU",
        "outputId": "bfa3511d-fa34-49de-d849-e561bd315b74"
      },
      "source": [
        "a,b,c,z,t = symbols('a b c z t')\r\n",
        "print(sqrt(x) == x**Rational(1,2))\r\n",
        "pprint(powsimp(x**a*x**b))\r\n",
        "pprint(powsimp(x**a*y**a))\r\n",
        "pprint(powsimp(t**c*z**c))\r\n",
        "pprint(powsimp(t**c*z**c, force=True))"
      ],
      "execution_count": null,
      "outputs": [
        {
          "output_type": "stream",
          "text": [
            "True\n",
            " a + b\n",
            "x     \n",
            " a  a\n",
            "x ⋅y \n",
            " c  c\n",
            "t ⋅z \n",
            "     c\n",
            "(t⋅z) \n"
          ],
          "name": "stdout"
        }
      ]
    },
    {
      "cell_type": "code",
      "metadata": {
        "colab": {
          "base_uri": "https://localhost:8080/"
        },
        "id": "HkBuEY5DVj0L",
        "outputId": "33769ae3-5f18-44f3-9494-b49a28fd5301"
      },
      "source": [
        "pprint((z*t)**2)\r\n",
        "pprint(powsimp(z**2*t**2))\r\n",
        "pprint(sqrt(x*y))\r\n",
        "pprint(powsimp(sqrt(x)*sqrt(y)))"
      ],
      "execution_count": null,
      "outputs": [
        {
          "output_type": "stream",
          "text": [
            " 2  2\n",
            "t ⋅z \n",
            " 2  2\n",
            "t ⋅z \n",
            "  _____\n",
            "╲╱ x⋅y \n",
            "√x⋅√y\n"
          ],
          "name": "stdout"
        }
      ]
    },
    {
      "cell_type": "code",
      "metadata": {
        "colab": {
          "base_uri": "https://localhost:8080/"
        },
        "id": "r5bUwzuvVs1P",
        "outputId": "05390773-7b4e-4f27-ea4e-9b49e8e784f5"
      },
      "source": [
        "pprint(expand_power_exp(x**(a+b)))\r\n",
        "pprint(expand_power_base((x*y)**a))\r\n",
        "pprint(expand_power_base((z*t)**c))\r\n",
        "pprint(expand_power_base((z*t)**c, force=True))\r\n",
        "pprint(expand_power_exp(x**5))"
      ],
      "execution_count": null,
      "outputs": [
        {
          "output_type": "stream",
          "text": [
            " a  b\n",
            "x ⋅x \n",
            "     a\n",
            "(x⋅y) \n",
            "     c\n",
            "(t⋅z) \n",
            " c  c\n",
            "t ⋅z \n",
            " 5\n",
            "x \n"
          ],
          "name": "stdout"
        }
      ]
    },
    {
      "cell_type": "code",
      "metadata": {
        "colab": {
          "base_uri": "https://localhost:8080/",
          "height": 73
        },
        "id": "2Ewo6SP2Xqly",
        "outputId": "a3e306d4-4c46-433d-ded2-0ccfd92d5d7d"
      },
      "source": [
        "print(powdenest((x**a)**b))\r\n",
        "print(powdenest((z**a)**b))\r\n",
        "powdenest((z**a)**b, force=True)"
      ],
      "execution_count": null,
      "outputs": [
        {
          "output_type": "stream",
          "text": [
            "(x**a)**b\n",
            "(z**a)**b\n"
          ],
          "name": "stdout"
        },
        {
          "output_type": "execute_result",
          "data": {
            "image/png": "[encoded data removed]",
            "text/latex": "$$z^{a b}$$",
            "text/plain": [
              " a⋅b\n",
              "z   "
            ]
          },
          "metadata": {
            "tags": []
          },
          "execution_count": 147
        }
      ]
    },
    {
      "cell_type": "markdown",
      "metadata": {
        "id": "jWakQ5i3YUgG"
      },
      "source": [
        "##### **5.e Exponential and Logarithms**\r\n",
        "- *expand_log*: to apply identities 1 and 2 from left to right, use expand_log(). the identiies will not be applied unless they are valid.\r\n",
        "- *logcombine*: to apply identities 1 and 2 from right to left."
      ]
    },
    {
      "cell_type": "code",
      "metadata": {
        "colab": {
          "base_uri": "https://localhost:8080/"
        },
        "id": "AXOws8XgZM52",
        "outputId": "a8ae0ded-15e2-41da-9b3c-73a8e66f0f49"
      },
      "source": [
        "from sympy import symbols,log\r\n",
        "x,y,n = symbols(\"x,y,n\",positive=True)\r\n",
        "print(log(x*y).expand())\r\n",
        "print(log(x/y).expand())\r\n",
        "print(log(x**2).expand())\r\n",
        "print(log(x**n).expand())\r\n",
        "print(log(z*t).expand())\r\n",
        "print(log(z**2).expand())\r\n",
        "print(log(z*2).expand(force=True)) #Force true to ignore assumption"
      ],
      "execution_count": null,
      "outputs": [
        {
          "output_type": "stream",
          "text": [
            "log(x) + log(y)\n",
            "log(x) - log(y)\n",
            "2*log(x)\n",
            "n*log(x)\n",
            "log(t*z)\n",
            "log(z**2)\n",
            "log(z) + log(2)\n"
          ],
          "name": "stdout"
        }
      ]
    },
    {
      "cell_type": "code",
      "metadata": {
        "colab": {
          "base_uri": "https://localhost:8080/"
        },
        "id": "fVlyd7VFaOkt",
        "outputId": "ffb150cc-1155-42fa-af19-3b9513801bb2"
      },
      "source": [
        "print(logcombine(log(x)+log(y)))\r\n",
        "print(logcombine(n*log(z)))\r\n",
        "print(logcombine(n*log(z), force=True))"
      ],
      "execution_count": null,
      "outputs": [
        {
          "output_type": "stream",
          "text": [
            "log(x*y)\n",
            "n*log(z)\n",
            "log(z**n)\n"
          ],
          "name": "stdout"
        }
      ]
    },
    {
      "cell_type": "markdown",
      "metadata": {
        "id": "f-eYc4vRasCM"
      },
      "source": [
        "##### **5.f Special Functions**\r\n",
        "- *rewrite*: a common way to deal with special function is to rewrite them in terms of one another.\r\n",
        "- *expand_func*: to expand special functions in terms of some identities\r\n",
        "- *hyperexpand*: also works on the more general Meijer G-function \r\n",
        "- *combsimp*: to simplify combinatorial expressions\r\n",
        "- *gammasimp*: to simplify expressions with gamma functions or combinatorial functions with non-integer argument"
      ]
    },
    {
      "cell_type": "code",
      "metadata": {
        "colab": {
          "base_uri": "https://localhost:8080/",
          "height": 93
        },
        "id": "W5tY9-QVaof9",
        "outputId": "ad53aba0-ebca-4b3b-a166-d05f0abb7984"
      },
      "source": [
        "k= symbols('k')\r\n",
        "pprint(factorial(n))\r\n",
        "pprint(gamma(z))\r\n",
        "hyper([1, 2], [3], z)"
      ],
      "execution_count": null,
      "outputs": [
        {
          "output_type": "stream",
          "text": [
            "n!\n",
            "Γ(z)\n"
          ],
          "name": "stdout"
        },
        {
          "output_type": "execute_result",
          "data": {
            "text/latex": "$${{}_{2}F_{1}\\left(\\begin{matrix} 1, 2 \\\\ 3 \\end{matrix}\\middle| {z} \\right)}$$",
            "text/plain": [
              " ┌─  ⎛1, 2 │  ⎞\n",
              " ├─  ⎜     │ z⎟\n",
              "2╵ 1 ⎝ 3   │  ⎠"
            ]
          },
          "metadata": {
            "tags": []
          },
          "execution_count": 170
        }
      ]
    },
    {
      "cell_type": "code",
      "metadata": {
        "colab": {
          "base_uri": "https://localhost:8080/",
          "height": 39
        },
        "id": "FmNF50qgbV5J",
        "outputId": "156af0b0-3e94-41fb-9eb4-ac57da2bcd62"
      },
      "source": [
        "binomial(n,k)"
      ],
      "execution_count": null,
      "outputs": [
        {
          "output_type": "execute_result",
          "data": {
            "image/png": "[encoded data removed]",
            "text/latex": "$${\\binom{n}{k}}$$",
            "text/plain": [
              "⎛n⎞\n",
              "⎜ ⎟\n",
              "⎝k⎠"
            ]
          },
          "metadata": {
            "tags": []
          },
          "execution_count": 171
        }
      ]
    },
    {
      "cell_type": "code",
      "metadata": {
        "colab": {
          "base_uri": "https://localhost:8080/"
        },
        "id": "J82b6a2ObXmG",
        "outputId": "8a5b07be-5283-4c6d-b890-5b8f57647237"
      },
      "source": [
        "pprint(tan(x).rewrite(sin))\r\n",
        "pprint(factorial(x).rewrite(gamma))"
      ],
      "execution_count": null,
      "outputs": [
        {
          "output_type": "stream",
          "text": [
            "     2   \n",
            "2⋅sin (x)\n",
            "─────────\n",
            " sin(2⋅x)\n",
            "Γ(x + 1)\n"
          ],
          "name": "stdout"
        }
      ]
    },
    {
      "cell_type": "code",
      "metadata": {
        "colab": {
          "base_uri": "https://localhost:8080/",
          "height": 39
        },
        "id": "Y6_UdYEUb7Ob",
        "outputId": "7140da6d-b12e-48e5-e0ad-449046be8029"
      },
      "source": [
        "expand_func(gamma(x+3))"
      ],
      "execution_count": null,
      "outputs": [
        {
          "output_type": "execute_result",
          "data": {
            "image/png": "[encoded data removed]",
            "text/latex": "$$x \\left(x + 1\\right) \\left(x + 2\\right) \\Gamma{\\left(x \\right)}$$",
            "text/plain": [
              "x⋅(x + 1)⋅(x + 2)⋅Γ(x)"
            ]
          },
          "metadata": {
            "tags": []
          },
          "execution_count": 173
        }
      ]
    },
    {
      "cell_type": "code",
      "metadata": {
        "colab": {
          "base_uri": "https://localhost:8080/",
          "height": 39
        },
        "id": "HCY_Id4NcDHh",
        "outputId": "db9b0f15-937c-4b9f-943b-10afafa3ce8b"
      },
      "source": [
        "hyperexpand(hyper([1,1],[2],z))"
      ],
      "execution_count": null,
      "outputs": [
        {
          "output_type": "execute_result",
          "data": {
            "image/png": "[encoded data removed]",
            "text/latex": "$$- \\frac{1}{z} \\log{\\left (- z + 1 \\right )}$$",
            "text/plain": [
              "-log(-z + 1) \n",
              "─────────────\n",
              "      z      "
            ]
          },
          "metadata": {
            "tags": []
          },
          "execution_count": 174
        }
      ]
    },
    {
      "cell_type": "code",
      "metadata": {
        "colab": {
          "base_uri": "https://localhost:8080/",
          "height": 59
        },
        "id": "eyEDPXJJcjuN",
        "outputId": "1a17292e-10a3-4be1-a9ea-061ae74b1359"
      },
      "source": [
        "meijerg([[1],[1]], [[1],[]], -z)"
      ],
      "execution_count": null,
      "outputs": [
        {
          "output_type": "execute_result",
          "data": {
            "text/latex": "$${G_{2, 1}^{1, 1}\\left(\\begin{matrix} 1 & 1 \\\\1 &  \\end{matrix} \\middle| {- z} \\right)}$$",
            "text/plain": [
              "╭─╮1, 1 ⎛1  1 │   ⎞\n",
              "│╶┐     ⎜     │ -z⎟\n",
              "╰─╯2, 1 ⎝1    │   ⎠"
            ]
          },
          "metadata": {
            "tags": []
          },
          "execution_count": 175
        }
      ]
    },
    {
      "cell_type": "code",
      "metadata": {
        "colab": {
          "base_uri": "https://localhost:8080/",
          "height": 39
        },
        "id": "FthmV5VacumU",
        "outputId": "7a0b5ad5-6ee4-4f29-eade-9d575bb76534"
      },
      "source": [
        "hyperexpand(meijerg([[1],[1]], [[1],[]], -z))"
      ],
      "execution_count": null,
      "outputs": [
        {
          "output_type": "execute_result",
          "data": {
            "image/png": "[encoded data removed]",
            "text/latex": "$$e^{\\frac{1}{z}}$$",
            "text/plain": [
              " 1\n",
              " ─\n",
              " z\n",
              "ℯ "
            ]
          },
          "metadata": {
            "tags": []
          },
          "execution_count": 176
        }
      ]
    },
    {
      "cell_type": "code",
      "metadata": {
        "colab": {
          "base_uri": "https://localhost:8080/",
          "height": 39
        },
        "id": "0iwc1g8-dISX",
        "outputId": "486e1863-07db-4969-8730-fc28416a9a04"
      },
      "source": [
        "combsimp(factorial(n)/factorial(n-3))"
      ],
      "execution_count": null,
      "outputs": [
        {
          "output_type": "execute_result",
          "data": {
            "image/png": "[encoded data removed]",
            "text/latex": "$$n \\left(n - 2\\right) \\left(n - 1\\right)$$",
            "text/plain": [
              "n⋅(n - 2)⋅(n - 1)"
            ]
          },
          "metadata": {
            "tags": []
          },
          "execution_count": 177
        }
      ]
    },
    {
      "cell_type": "code",
      "metadata": {
        "id": "Nq90vmDPdO5I",
        "colab": {
          "base_uri": "https://localhost:8080/"
        },
        "outputId": "32287ab5-cbbf-452e-a7b5-03485ace844c"
      },
      "source": [
        "pprint(combsimp(binomial(n+1, k+1)/binomial(n, k)))"
      ],
      "execution_count": null,
      "outputs": [
        {
          "output_type": "stream",
          "text": [
            "n + 1\n",
            "─────\n",
            "k + 1\n"
          ],
          "name": "stdout"
        }
      ]
    },
    {
      "cell_type": "code",
      "metadata": {
        "colab": {
          "base_uri": "https://localhost:8080/"
        },
        "id": "IBI2Z9sNeAgb",
        "outputId": "3e666cb1-422c-4d59-c56e-07b713f0a710"
      },
      "source": [
        "pprint(gamma(gamma(x)*gamma(1-x)))"
      ],
      "execution_count": null,
      "outputs": [
        {
          "output_type": "stream",
          "text": [
            "Γ(Γ(x)⋅Γ(-x + 1))\n"
          ],
          "name": "stdout"
        }
      ]
    },
    {
      "cell_type": "markdown",
      "metadata": {
        "id": "5hZOZDjYe2mu"
      },
      "source": [
        "##### **5.g Continued Fractions**"
      ]
    },
    {
      "cell_type": "code",
      "metadata": {
        "colab": {
          "base_uri": "https://localhost:8080/"
        },
        "id": "MCCZmTxJe9v2",
        "outputId": "19190b9e-b19b-472a-ec5c-e9fd9f23a6c8"
      },
      "source": [
        "def list_to_frac(l): \r\n",
        "  expr = Integer(0)\r\n",
        "  for i in reversed(l[1:]):\r\n",
        "    expr += i\r\n",
        "    expr = 1/expr\r\n",
        "  return l[0]+expr\r\n",
        "pprint(list_to_frac([x,y,z]))\r\n",
        "pprint(list_to_frac([1,2,3,4]))"
      ],
      "execution_count": null,
      "outputs": [
        {
          "output_type": "stream",
          "text": [
            "      1  \n",
            "x + ─────\n",
            "        1\n",
            "    y + ─\n",
            "        z\n",
            "43\n",
            "──\n",
            "30\n"
          ],
          "name": "stdout"
        }
      ]
    },
    {
      "cell_type": "code",
      "metadata": {
        "colab": {
          "base_uri": "https://localhost:8080/"
        },
        "id": "4-OLCLx5fpi8",
        "outputId": "8d08a956-a356-42e4-ff36-8c74f7832659"
      },
      "source": [
        "syms = symbols ('a0:5')\r\n",
        "print(syms)\r\n",
        "a0,a1,a2,a3,a4 = syms\r\n",
        "frac = list_to_frac(syms)\r\n",
        "pprint(frac)\r\n",
        "pprint(cancel(frac))"
      ],
      "execution_count": null,
      "outputs": [
        {
          "output_type": "stream",
          "text": [
            "(a0, a1, a2, a3, a4)\n",
            "             1        \n",
            "a₀ + ─────────────────\n",
            "               1      \n",
            "     a₁ + ────────────\n",
            "                  1   \n",
            "          a₂ + ───────\n",
            "                    1 \n",
            "               a₃ + ──\n",
            "                    a₄\n",
            "a₀⋅a₁⋅a₂⋅a₃⋅a₄ + a₀⋅a₁⋅a₂ + a₀⋅a₁⋅a₄ + a₀⋅a₃⋅a₄ + a₀ + a₂⋅a₃⋅a₄ + a₂ + a₄\n",
            "─────────────────────────────────────────────────────────────────────────\n",
            "                 a₁⋅a₂⋅a₃⋅a₄ + a₁⋅a₂ + a₁⋅a₄ + a₃⋅a₄ + 1                 \n"
          ],
          "name": "stdout"
        }
      ]
    },
    {
      "cell_type": "code",
      "metadata": {
        "colab": {
          "base_uri": "https://localhost:8080/",
          "height": 1000
        },
        "id": "Z6io6Khwf_Rk",
        "outputId": "5c1ac448-5c97-41a3-ed84-1b84ccf91d31"
      },
      "source": [
        "l = []\r\n",
        "frac = apart(frac, a0)\r\n",
        "pprint(frac)\r\n",
        "l.append(a0)\r\n",
        "frac = 1/(frac-a0)\r\n",
        "pprint(frac)\r\n",
        "frac = apart(frac, a1)\r\n",
        "pprint(frac)\r\n",
        "l.append(a1)\r\n",
        "frac =  1/(frac-a1)\r\n",
        "frac = apart(frac, a2)\r\n",
        "pprint(frac)\r\n",
        "l.append(a2)\r\n",
        "frac = 1/(frac-a2)\r\n",
        "frac = apart(frac, a3)\r\n",
        "pprint(frac)\r\n",
        "l.append(a3)\r\n",
        "frac = 1/(frac-a3)\r\n",
        "frac = apart(frac, a4)\r\n",
        "pprint(frac)\r\n",
        "l.append(a4)\r\n",
        "list_to_frac(l)"
      ],
      "execution_count": null,
      "outputs": [
        {
          "output_type": "stream",
          "text": [
            "                        -(a₂⋅a₃⋅a₄ + a₂ + a₄)                        \n",
            "─────────────────────────────────────────────────────────────────────\n",
            "a₀⋅a₂⋅a₃⋅a₄ + a₀⋅a₂ + a₀⋅a₄ - a₁⋅a₂⋅a₃⋅a₄ - a₁⋅a₂ - a₁⋅a₄ - a₃⋅a₄ - 1\n",
            "                                     1                                     \n",
            "───────────────────────────────────────────────────────────────────────────\n",
            "                                a₂⋅a₃⋅a₄ + a₂ + a₄                         \n",
            "-a₀ - ─────────────────────────────────────────────────────────────────────\n",
            "      a₀⋅a₂⋅a₃⋅a₄ + a₀⋅a₂ + a₀⋅a₄ - a₁⋅a₂⋅a₃⋅a₄ - a₁⋅a₂ - a₁⋅a₄ - a₃⋅a₄ - 1\n",
            "                                               a₂⋅a₃⋅a₄ + a₂ + a₄             \n",
            "──────────────────────────────────────────────────────────────────────────────\n",
            "   ⎛  2              2        2                                               \n",
            "a₀⋅⎝a₀ ⋅a₂⋅a₃⋅a₄ + a₀ ⋅a₂ + a₀ ⋅a₄ - a₀⋅a₁⋅a₂⋅a₃⋅a₄ - a₀⋅a₁⋅a₂ - a₀⋅a₁⋅a₄ - a₀\n",
            "\n",
            "                                    1 \n",
            "───────────────────────────────── - ──\n",
            "                                ⎞   a₀\n",
            "⋅a₃⋅a₄ - a₀ + a₂⋅a₃⋅a₄ + a₂ + a₄⎠     \n",
            "      2                                                                       \n",
            "    a₀  - a₀⋅a₁ + 1                                                           \n",
            "- ──────────────────── - ─────────────────────────────────────────────────────\n",
            "    2           2           ⎛          2    ⎞ ⎛  2                 2          \n",
            "  a₀ ⋅a₁ - a₀⋅a₁  + a₀   a₀⋅⎝a₀⋅a₁ - a₁  + 1⎠⋅⎝a₀ ⋅a₁⋅a₂⋅a₃⋅a₄ + a₀ ⋅a₁⋅a₂ + a\n",
            "\n",
            "                                                                              \n",
            "                          a₃⋅a₄ + 1                                           \n",
            "──────────────────────────────────────────────────────────────────────────────\n",
            " 2              2                 2           2                               \n",
            "₀ ⋅a₁⋅a₄ - a₀⋅a₁ ⋅a₂⋅a₃⋅a₄ - a₀⋅a₁ ⋅a₂ - a₀⋅a₁ ⋅a₄ - a₀⋅a₁⋅a₃⋅a₄ - a₀⋅a₁ + a₀⋅\n",
            "\n",
            "                                     \n",
            "                                     \n",
            "─────────────────────────────────────\n",
            "                                    ⎞\n",
            "a₂⋅a₃⋅a₄ + a₀⋅a₂ + a₀⋅a₄ - a₃⋅a₄ - 1⎠\n",
            "             2              2                                                 \n",
            "           a₀ ⋅a₁⋅a₂ - a₀⋅a₁ ⋅a₂ - a₀⋅a₁ + a₀⋅a₂ - 1                          \n",
            "- ─────────────────────────────────────────────────────────── - ──────────────\n",
            "    2      2     2           2   2                     2           ⎛        2 \n",
            "  a₀ ⋅a₁⋅a₂  + a₀ ⋅a₂ - a₀⋅a₁ ⋅a₂  - 2⋅a₀⋅a₁⋅a₂ + a₀⋅a₂  - a₀   a₀⋅⎝a₀⋅a₁⋅a₂  \n",
            "\n",
            "                                                                              \n",
            "                                                                              \n",
            "──────────────────────────────────────────────────────────────────────────────\n",
            "            2   2               2    ⎞ ⎛  2      2           2      2     2   \n",
            "+ a₀⋅a₂ - a₁ ⋅a₂  - 2⋅a₁⋅a₂ + a₂  - 1⎠⋅⎝a₀ ⋅a₁⋅a₂ ⋅a₃⋅a₄ + a₀ ⋅a₁⋅a₂  + a₀ ⋅a₁\n",
            "\n",
            "                                                                              \n",
            "                                              a₄                              \n",
            "──────────────────────────────────────────────────────────────────────────────\n",
            "           2              2        2           2   2              2   2       \n",
            "⋅a₂⋅a₄ + a₀ ⋅a₂⋅a₃⋅a₄ + a₀ ⋅a₂ + a₀ ⋅a₄ - a₀⋅a₁ ⋅a₂ ⋅a₃⋅a₄ - a₀⋅a₁ ⋅a₂  - a₀⋅a\n",
            "\n",
            "                                                                              \n",
            "                                                                              \n",
            "──────────────────────────────────────────────────────────────────────────────\n",
            " 2                                                         2              2   \n",
            "₁ ⋅a₂⋅a₄ - 2⋅a₀⋅a₁⋅a₂⋅a₃⋅a₄ - 2⋅a₀⋅a₁⋅a₂ - a₀⋅a₁⋅a₄ + a₀⋅a₂ ⋅a₃⋅a₄ + a₀⋅a₂  + \n",
            "\n",
            "                              \n",
            "                              \n",
            "──────────────────────────────\n",
            "                             ⎞\n",
            "a₀⋅a₂⋅a₄ - a₀⋅a₃⋅a₄ - a₀ + a₄⎠\n",
            "                            2      2        2           2           2        2\n",
            "                          a₀ ⋅a₁⋅a₂ ⋅a₃ + a₀ ⋅a₁⋅a₂ + a₀ ⋅a₂⋅a₃ + a₀  - a₀⋅a₁ \n",
            "- ────────────────────────────────────────────────────────────────────────────\n",
            "    2      2   2       2              2        2      2     2           2   2 \n",
            "  a₀ ⋅a₁⋅a₂ ⋅a₃  + 2⋅a₀ ⋅a₁⋅a₂⋅a₃ + a₀ ⋅a₁ + a₀ ⋅a₂⋅a₃  + a₀ ⋅a₃ - a₀⋅a₁ ⋅a₂ ⋅\n",
            "\n",
            "   2           2                                   2                          \n",
            "⋅a₂ ⋅a₃ - a₀⋅a₁ ⋅a₂ - 2⋅a₀⋅a₁⋅a₂⋅a₃ - a₀⋅a₁ + a₀⋅a₂ ⋅a₃ + a₀⋅a₂ - a₀⋅a₃ + 1   \n",
            "──────────────────────────────────────────────────────────────────────────────\n",
            "  2          2              2                2                     2   2      \n",
            "a₃  - 2⋅a₀⋅a₁ ⋅a₂⋅a₃ - a₀⋅a₁  - 2⋅a₀⋅a₁⋅a₂⋅a₃  - 2⋅a₀⋅a₁⋅a₃ + a₀⋅a₂ ⋅a₃  + 2⋅a\n",
            "\n",
            "                                                                              \n",
            "                                                                              \n",
            "───────────────────── - ──────────────────────────────────────────────────────\n",
            "               2           ⎛        2   2                                   2 \n",
            "₀⋅a₂⋅a₃ - a₀⋅a₃  + a₀   a₀⋅⎝a₀⋅a₁⋅a₂ ⋅a₃  + 2⋅a₀⋅a₁⋅a₂⋅a₃ + a₀⋅a₁ + a₀⋅a₂⋅a₃  \n",
            "\n",
            "                                                                              \n",
            "                                                                              \n",
            "──────────────────────────────────────────────────────────────────────────────\n",
            "            2   2   2       2           2             2               2   2   \n",
            "+ a₀⋅a₃ - a₁ ⋅a₂ ⋅a₃  - 2⋅a₁ ⋅a₂⋅a₃ - a₁  - 2⋅a₁⋅a₂⋅a₃  - 2⋅a₁⋅a₃ + a₂ ⋅a₃  + \n",
            "\n",
            "                                                                              \n",
            "                                                                              \n",
            "──────────────────────────────────────────────────────────────────────────────\n",
            "            2    ⎞ ⎛  2      2   2        2      2          2                 \n",
            "2⋅a₂⋅a₃ - a₃  + 1⎠⋅⎝a₀ ⋅a₁⋅a₂ ⋅a₃ ⋅a₄ + a₀ ⋅a₁⋅a₂ ⋅a₃ + 2⋅a₀ ⋅a₁⋅a₂⋅a₃⋅a₄ + a₀\n",
            "\n",
            "                                                                              \n",
            "                                    1                                         \n",
            "──────────────────────────────────────────────────────────────────────────────\n",
            "2           2           2      2        2           2              2   2   2  \n",
            " ⋅a₁⋅a₂ + a₀ ⋅a₁⋅a₄ + a₀ ⋅a₂⋅a₃ ⋅a₄ + a₀ ⋅a₂⋅a₃ + a₀ ⋅a₃⋅a₄ - a₀⋅a₁ ⋅a₂ ⋅a₃ ⋅a\n",
            "\n",
            "                                                                              \n",
            "                                                                              \n",
            "──────────────────────────────────────────────────────────────────────────────\n",
            "         2   2             2                 2           2                   2\n",
            "₄ - a₀⋅a₁ ⋅a₂ ⋅a₃ - 2⋅a₀⋅a₁ ⋅a₂⋅a₃⋅a₄ - a₀⋅a₁ ⋅a₂ - a₀⋅a₁ ⋅a₄ - 2⋅a₀⋅a₁⋅a₂⋅a₃ \n",
            "\n",
            "                                                                              \n",
            "                                                                              \n",
            "──────────────────────────────────────────────────────────────────────────────\n",
            "                                                   2   2           2          \n",
            "⋅a₄ - 2⋅a₀⋅a₁⋅a₂⋅a₃ - 2⋅a₀⋅a₁⋅a₃⋅a₄ - a₀⋅a₁ + a₀⋅a₂ ⋅a₃ ⋅a₄ + a₀⋅a₂ ⋅a₃ + 2⋅a₀\n",
            "\n",
            "                                                  \n",
            "                                                  \n",
            "──────────────────────────────────────────────────\n",
            "                         2                       ⎞\n",
            "⋅a₂⋅a₃⋅a₄ + a₀⋅a₂ - a₀⋅a₃ ⋅a₄ - a₀⋅a₃ + a₀⋅a₄ - 1⎠\n"
          ],
          "name": "stdout"
        },
        {
          "output_type": "execute_result",
          "data": {
            "image/png": "[encoded data removed]",
            "text/latex": "$$a_{0} + \\frac{1}{a_{1} + \\frac{1}{a_{2} + \\frac{1}{a_{3} + \\frac{1}{a_{4}}}}}$$",
            "text/plain": [
              "             1        \n",
              "a₀ + ─────────────────\n",
              "               1      \n",
              "     a₁ + ────────────\n",
              "                  1   \n",
              "          a₂ + ───────\n",
              "                    1 \n",
              "               a₃ + ──\n",
              "                    a₄"
            ]
          },
          "metadata": {
            "tags": []
          },
          "execution_count": 197
        }
      ]
    },
    {
      "cell_type": "code",
      "metadata": {
        "id": "xFlTPVmBg50b"
      },
      "source": [
        "import random\r\n",
        "l = list(symbols('a0:5'))\r\n",
        "random.shuffle(l)\r\n",
        "orig_frac = frac = cancel(list_to_frac(l))\r\n",
        "del l"
      ],
      "execution_count": null,
      "outputs": []
    },
    {
      "cell_type": "code",
      "metadata": {
        "colab": {
          "base_uri": "https://localhost:8080/"
        },
        "id": "VL1WLcS4hPXD",
        "outputId": "0e93b210-5a02-4d5b-c252-c854f43be8a1"
      },
      "source": [
        "pprint(orig_frac)"
      ],
      "execution_count": null,
      "outputs": [
        {
          "output_type": "stream",
          "text": [
            "a₀⋅a₁⋅a₂⋅a₃⋅a₄ + a₀⋅a₁⋅a₂ + a₀⋅a₁⋅a₄ + a₁⋅a₂⋅a₃ + a₁ + a₂⋅a₃⋅a₄ + a₂ + a₄\n",
            "─────────────────────────────────────────────────────────────────────────\n",
            "                 a₀⋅a₁⋅a₃⋅a₄ + a₀⋅a₁ + a₁⋅a₃ + a₃⋅a₄ + 1                 \n"
          ],
          "name": "stdout"
        }
      ]
    },
    {
      "cell_type": "markdown",
      "metadata": {
        "id": "bS7XyG28e2bw"
      },
      "source": [
        "### **6. Calculus**"
      ]
    },
    {
      "cell_type": "markdown",
      "metadata": {
        "id": "wPciWrWJ3B2T"
      },
      "source": [
        "##### **6.a Derivatives**"
      ]
    },
    {
      "cell_type": "code",
      "metadata": {
        "id": "owu58dp9hcNg",
        "colab": {
          "base_uri": "https://localhost:8080/",
          "height": 57
        },
        "outputId": "72ed8e0d-d8d6-4e23-8764-555a3fa90596"
      },
      "source": [
        "print(diff(cos(x), x))\r\n",
        "diff(exp(x**2),x)"
      ],
      "execution_count": null,
      "outputs": [
        {
          "output_type": "stream",
          "text": [
            "-sin(x)\n"
          ],
          "name": "stdout"
        },
        {
          "output_type": "execute_result",
          "data": {
            "image/png": "[encoded data removed]",
            "text/latex": "$$2 x e^{x^{2}}$$",
            "text/plain": [
              "     ⎛ 2⎞\n",
              "     ⎝x ⎠\n",
              "2⋅x⋅ℯ    "
            ]
          },
          "metadata": {
            "tags": []
          },
          "execution_count": 7
        }
      ]
    },
    {
      "cell_type": "code",
      "metadata": {
        "colab": {
          "base_uri": "https://localhost:8080/",
          "height": 73
        },
        "id": "do6WaQrk4Pfo",
        "outputId": "d899437d-59a1-457e-a11b-b3606f00f997"
      },
      "source": [
        "pprint(diff(x**4, x, x,x))\r\n",
        "pprint(diff(x**4, x, 3))\r\n",
        "expr = exp(x*y*z)\r\n",
        "diff(expr, x,y,y,z,z,z,z)"
      ],
      "execution_count": null,
      "outputs": [
        {
          "output_type": "stream",
          "text": [
            "24⋅x\n",
            "24⋅x\n"
          ],
          "name": "stdout"
        },
        {
          "output_type": "execute_result",
          "data": {
            "image/png": "[encoded data removed]",
            "text/latex": "$$x^{3} y^{2} \\left(x^{3} y^{3} z^{3} + 14 x^{2} y^{2} z^{2} + 52 x y z + 48\\right) e^{x y z}$$",
            "text/plain": [
              " 3  2 ⎛ 3  3  3       2  2  2                ⎞  x⋅y⋅z\n",
              "x ⋅y ⋅⎝x ⋅y ⋅z  + 14⋅x ⋅y ⋅z  + 52⋅x⋅y⋅z + 48⎠⋅ℯ     "
            ]
          },
          "metadata": {
            "tags": []
          },
          "execution_count": 10
        }
      ]
    },
    {
      "cell_type": "code",
      "metadata": {
        "colab": {
          "base_uri": "https://localhost:8080/",
          "height": 39
        },
        "id": "9_ykJq3h4qBI",
        "outputId": "47928168-f6c2-44f7-ccd0-12b966a8564a"
      },
      "source": [
        "diff(expr, x,y,2,z,4)"
      ],
      "execution_count": null,
      "outputs": [
        {
          "output_type": "execute_result",
          "data": {
            "image/png": "[encoded data removed]",
            "text/latex": "$$x^{3} y^{2} \\left(x^{3} y^{3} z^{3} + 14 x^{2} y^{2} z^{2} + 52 x y z + 48\\right) e^{x y z}$$",
            "text/plain": [
              " 3  2 ⎛ 3  3  3       2  2  2                ⎞  x⋅y⋅z\n",
              "x ⋅y ⋅⎝x ⋅y ⋅z  + 14⋅x ⋅y ⋅z  + 52⋅x⋅y⋅z + 48⎠⋅ℯ     "
            ]
          },
          "metadata": {
            "tags": []
          },
          "execution_count": 11
        }
      ]
    },
    {
      "cell_type": "code",
      "metadata": {
        "colab": {
          "base_uri": "https://localhost:8080/",
          "height": 39
        },
        "id": "jXRGylkh4tZq",
        "outputId": "950d1fea-87e1-44ce-f09e-26dc4f92f715"
      },
      "source": [
        "diff(expr,x,y,y,z,4)"
      ],
      "execution_count": null,
      "outputs": [
        {
          "output_type": "execute_result",
          "data": {
            "image/png": "[encoded data removed]",
            "text/latex": "$$x^{3} y^{2} \\left(x^{3} y^{3} z^{3} + 14 x^{2} y^{2} z^{2} + 52 x y z + 48\\right) e^{x y z}$$",
            "text/plain": [
              " 3  2 ⎛ 3  3  3       2  2  2                ⎞  x⋅y⋅z\n",
              "x ⋅y ⋅⎝x ⋅y ⋅z  + 14⋅x ⋅y ⋅z  + 52⋅x⋅y⋅z + 48⎠⋅ℯ     "
            ]
          },
          "metadata": {
            "tags": []
          },
          "execution_count": 12
        }
      ]
    },
    {
      "cell_type": "code",
      "metadata": {
        "colab": {
          "base_uri": "https://localhost:8080/",
          "height": 39
        },
        "id": "CyixCB4K4y5l",
        "outputId": "24bd6fd3-dcb8-4cb6-8842-81f9097e5fb0"
      },
      "source": [
        "expr.diff(x,y,y,z,4)"
      ],
      "execution_count": null,
      "outputs": [
        {
          "output_type": "execute_result",
          "data": {
            "image/png": "[encoded data removed]",
            "text/latex": "$$x^{3} y^{2} \\left(x^{3} y^{3} z^{3} + 14 x^{2} y^{2} z^{2} + 52 x y z + 48\\right) e^{x y z}$$",
            "text/plain": [
              " 3  2 ⎛ 3  3  3       2  2  2                ⎞  x⋅y⋅z\n",
              "x ⋅y ⋅⎝x ⋅y ⋅z  + 14⋅x ⋅y ⋅z  + 52⋅x⋅y⋅z + 48⎠⋅ℯ     "
            ]
          },
          "metadata": {
            "tags": []
          },
          "execution_count": 13
        }
      ]
    },
    {
      "cell_type": "code",
      "metadata": {
        "colab": {
          "base_uri": "https://localhost:8080/",
          "height": 43
        },
        "id": "Rbq7jKIE45Mu",
        "outputId": "c87af583-5750-49a4-ef9b-55b7a7a8b5a6"
      },
      "source": [
        "deriv = Derivative(expr, x,y,y,z,4)\r\n",
        "deriv"
      ],
      "execution_count": null,
      "outputs": [
        {
          "output_type": "execute_result",
          "data": {
            "image/png": "[encoded data removed]",
            "text/latex": "$$\\frac{\\partial^{7}}{\\partial x\\partial y^{2}\\partial z^{4}}  e^{x y z}$$",
            "text/plain": [
              "     7            \n",
              "    ∂     ⎛ x⋅y⋅z⎞\n",
              "──────────⎝ℯ     ⎠\n",
              "  4   2           \n",
              "∂z  ∂y  ∂x        "
            ]
          },
          "metadata": {
            "tags": []
          },
          "execution_count": 14
        }
      ]
    },
    {
      "cell_type": "code",
      "metadata": {
        "colab": {
          "base_uri": "https://localhost:8080/",
          "height": 39
        },
        "id": "URrtmU485Gd_",
        "outputId": "23224205-60d2-41be-fd19-a4292b52cb84"
      },
      "source": [
        "deriv.doit()"
      ],
      "execution_count": null,
      "outputs": [
        {
          "output_type": "execute_result",
          "data": {
            "image/png": "[encoded data removed]",
            "text/latex": "$$x^{3} y^{2} \\left(x^{3} y^{3} z^{3} + 14 x^{2} y^{2} z^{2} + 52 x y z + 48\\right) e^{x y z}$$",
            "text/plain": [
              " 3  2 ⎛ 3  3  3       2  2  2                ⎞  x⋅y⋅z\n",
              "x ⋅y ⋅⎝x ⋅y ⋅z  + 14⋅x ⋅y ⋅z  + 52⋅x⋅y⋅z + 48⎠⋅ℯ     "
            ]
          },
          "metadata": {
            "tags": []
          },
          "execution_count": 15
        }
      ]
    },
    {
      "cell_type": "markdown",
      "metadata": {
        "id": "2Ybk7rvm3FsH"
      },
      "source": [
        "##### **6.b Integral**"
      ]
    },
    {
      "cell_type": "code",
      "metadata": {
        "colab": {
          "base_uri": "https://localhost:8080/",
          "height": 91
        },
        "id": "rv991G1g5jOl",
        "outputId": "75eda77b-79a5-4aae-8f47-1129202cb5af"
      },
      "source": [
        "print(integrate(cos(x), x))\r\n",
        "print(integrate(exp(-x),(x,0,oo)))\r\n",
        "pprint(integrate(exp(-x**2-y**2),(x, -oo, oo), (y,-oo,oo)))\r\n",
        "expr = integrate(x**x,x)\r\n",
        "expr"
      ],
      "execution_count": null,
      "outputs": [
        {
          "output_type": "stream",
          "text": [
            "sin(x)\n",
            "1\n",
            "π\n"
          ],
          "name": "stdout"
        },
        {
          "output_type": "execute_result",
          "data": {
            "image/png": "[encoded data removed]",
            "text/latex": "$$\\int x^{x}\\, dx$$",
            "text/plain": [
              "⌠      \n",
              "⎮  x   \n",
              "⎮ x  dx\n",
              "⌡      "
            ]
          },
          "metadata": {
            "tags": []
          },
          "execution_count": 23
        }
      ]
    },
    {
      "cell_type": "code",
      "metadata": {
        "colab": {
          "base_uri": "https://localhost:8080/",
          "height": 39
        },
        "id": "p6889e5j6ZFy",
        "outputId": "5db5f78c-1186-49e1-bad6-24d5a5ea78d8"
      },
      "source": [
        "expr = Integral(log(x)**2,x)\r\n",
        "expr"
      ],
      "execution_count": null,
      "outputs": [
        {
          "output_type": "execute_result",
          "data": {
            "image/png": "[encoded data removed]",
            "text/latex": "$$\\int \\log^{2}{\\left (x \\right )}\\, dx$$",
            "text/plain": [
              "⌠           \n",
              "⎮    2      \n",
              "⎮ log (x) dx\n",
              "⌡           "
            ]
          },
          "metadata": {
            "tags": []
          },
          "execution_count": 26
        }
      ]
    },
    {
      "cell_type": "code",
      "metadata": {
        "colab": {
          "base_uri": "https://localhost:8080/",
          "height": 39
        },
        "id": "l958eV--6LgB",
        "outputId": "4aa9f470-3225-436f-dc56-a233556a31be"
      },
      "source": [
        "expr.doit()"
      ],
      "execution_count": null,
      "outputs": [
        {
          "output_type": "execute_result",
          "data": {
            "image/png": "[encoded data removed]",
            "text/latex": "$$x \\log^{2}{\\left (x \\right )} - 2 x \\log{\\left (x \\right )} + 2 x$$",
            "text/plain": [
              "     2                      \n",
              "x⋅log (x) - 2⋅x⋅log(x) + 2⋅x"
            ]
          },
          "metadata": {
            "tags": []
          },
          "execution_count": 25
        }
      ]
    },
    {
      "cell_type": "code",
      "metadata": {
        "colab": {
          "base_uri": "https://localhost:8080/",
          "height": 49
        },
        "id": "AROiK9TI6fdW",
        "outputId": "dced0816-3472-4b9a-d999-85deb0e61388"
      },
      "source": [
        "integ = Integral((x**4+x**2*exp(x)-x**2-2*x*exp(x)-2*x-exp(x))*exp(x)/((x-1)**2*(x+1)**2*(exp(x)+1)),x)\r\n",
        "integ"
      ],
      "execution_count": null,
      "outputs": [
        {
          "output_type": "execute_result",
          "data": {
            "image/png": "[encoded data removed]",
            "text/latex": "$$\\int \\frac{\\left(x^{4} + x^{2} e^{x} - x^{2} - 2 x e^{x} - 2 x - e^{x}\\right) e^{x}}{\\left(x - 1\\right)^{2} \\left(x + 1\\right)^{2} \\left(e^{x} + 1\\right)}\\, dx$$",
            "text/plain": [
              "⌠                                            \n",
              "⎮ ⎛ 4    2  x    2        x          x⎞  x   \n",
              "⎮ ⎝x  + x ⋅ℯ  - x  - 2⋅x⋅ℯ  - 2⋅x - ℯ ⎠⋅ℯ    \n",
              "⎮ ──────────────────────────────────────── dx\n",
              "⎮               2        2 ⎛ x    ⎞          \n",
              "⎮        (x - 1) ⋅(x + 1) ⋅⎝ℯ  + 1⎠          \n",
              "⌡                                            "
            ]
          },
          "metadata": {
            "tags": []
          },
          "execution_count": 27
        }
      ]
    },
    {
      "cell_type": "code",
      "metadata": {
        "colab": {
          "base_uri": "https://localhost:8080/",
          "height": 39
        },
        "id": "nJ133aV17LXD",
        "outputId": "96f3a48f-26c4-44d7-e7e2-71b958925b46"
      },
      "source": [
        "integ.doit()"
      ],
      "execution_count": null,
      "outputs": [
        {
          "output_type": "execute_result",
          "data": {
            "image/png": "[encoded data removed]",
            "text/latex": "$$\\log{\\left (e^{x} + 1 \\right )} + \\frac{e^{x}}{x^{2} - 1}$$",
            "text/plain": [
              "                 x  \n",
              "   ⎛ x    ⎞     ℯ   \n",
              "log⎝ℯ  + 1⎠ + ──────\n",
              "               2    \n",
              "              x  - 1"
            ]
          },
          "metadata": {
            "tags": []
          },
          "execution_count": 28
        }
      ]
    },
    {
      "cell_type": "code",
      "metadata": {
        "colab": {
          "base_uri": "https://localhost:8080/",
          "height": 39
        },
        "id": "HpRvznDi7Owy",
        "outputId": "b74b5e4a-ad4e-4e43-c72a-70f1f040a3d6"
      },
      "source": [
        "integ = Integral(sin(x**2), x)\r\n",
        "integ"
      ],
      "execution_count": null,
      "outputs": [
        {
          "output_type": "execute_result",
          "data": {
            "image/png": "[encoded data removed]",
            "text/latex": "$$\\int \\sin{\\left (x^{2} \\right )}\\, dx$$",
            "text/plain": [
              "⌠           \n",
              "⎮    ⎛ 2⎞   \n",
              "⎮ sin⎝x ⎠ dx\n",
              "⌡           "
            ]
          },
          "metadata": {
            "tags": []
          },
          "execution_count": 29
        }
      ]
    },
    {
      "cell_type": "code",
      "metadata": {
        "colab": {
          "base_uri": "https://localhost:8080/",
          "height": 57
        },
        "id": "RoIjgL1f7WX5",
        "outputId": "f951fb69-33cc-4b7a-cdd2-a7acb8b1b9e9"
      },
      "source": [
        "integ.doit()"
      ],
      "execution_count": null,
      "outputs": [
        {
          "output_type": "execute_result",
          "data": {
            "image/png": "[encoded data removed]",
            "text/latex": "$$\\frac{3 \\sqrt{2} \\sqrt{\\pi} S\\left(\\frac{\\sqrt{2} x}{\\sqrt{\\pi}}\\right)}{8 \\Gamma{\\left(\\frac{7}{4} \\right)}} \\Gamma{\\left(\\frac{3}{4} \\right)}$$",
            "text/plain": [
              "                ⎛√2⋅x⎞       \n",
              "3⋅√2⋅√π⋅fresnels⎜────⎟⋅Γ(3/4)\n",
              "                ⎝ √π ⎠       \n",
              "─────────────────────────────\n",
              "           8⋅Γ(7/4)          "
            ]
          },
          "metadata": {
            "tags": []
          },
          "execution_count": 30
        }
      ]
    },
    {
      "cell_type": "code",
      "metadata": {
        "colab": {
          "base_uri": "https://localhost:8080/",
          "height": 39
        },
        "id": "4f6uylcF7cqi",
        "outputId": "3bf4fc21-cb94-4a2c-ec9f-4e4c8b623533"
      },
      "source": [
        "integ = Integral(x**y*exp(-x),(x,0,oo))\r\n",
        "integ"
      ],
      "execution_count": null,
      "outputs": [
        {
          "output_type": "execute_result",
          "data": {
            "image/png": "[encoded data removed]",
            "text/latex": "$$\\int_{0}^{\\infty} x^{y} e^{- x}\\, dx$$",
            "text/plain": [
              "∞          \n",
              "⌠          \n",
              "⎮  y  -x   \n",
              "⎮ x ⋅ℯ   dx\n",
              "⌡          \n",
              "0          "
            ]
          },
          "metadata": {
            "tags": []
          },
          "execution_count": 31
        }
      ]
    },
    {
      "cell_type": "code",
      "metadata": {
        "colab": {
          "base_uri": "https://localhost:8080/",
          "height": 68
        },
        "id": "7UhObpof7lWB",
        "outputId": "5bb6d7ac-e2bc-4886-e49e-0caf20087308"
      },
      "source": [
        "integ.doit()"
      ],
      "execution_count": null,
      "outputs": [
        {
          "output_type": "execute_result",
          "data": {
            "text/latex": "$$\\begin{cases} \\Gamma{\\left(y + 1 \\right)} & \\text{for}\\: - \\Re{\\left(y\\right)} < 1 \\\\\\int_{0}^{\\infty} x^{y} e^{- x}\\, dx & \\text{otherwise} \\end{cases}$$",
            "text/plain": [
              "⎧ Γ(y + 1)    for -re(y) < 1\n",
              "⎪                           \n",
              "⎪∞                          \n",
              "⎪⌠                          \n",
              "⎨⎮  y  -x                   \n",
              "⎪⎮ x ⋅ℯ   dx    otherwise   \n",
              "⎪⌡                          \n",
              "⎪0                          \n",
              "⎩                           "
            ]
          },
          "metadata": {
            "tags": []
          },
          "execution_count": 32
        }
      ]
    },
    {
      "cell_type": "markdown",
      "metadata": {
        "id": "IJX_AD-N3Rz2"
      },
      "source": [
        "##### **6.c Limits**"
      ]
    },
    {
      "cell_type": "code",
      "metadata": {
        "colab": {
          "base_uri": "https://localhost:8080/",
          "height": 91
        },
        "id": "qIHNH_u57s4o",
        "outputId": "a35f53a1-8f90-448f-f7ad-e1edabdf7d96"
      },
      "source": [
        "print(limit(sin(x)/x,x,0))\r\n",
        "expr = x**2/exp(x)\r\n",
        "print(expr.subs(x,oo))\r\n",
        "print(limit(expr, x, oo))\r\n",
        "expr = Limit((cos(x)-1)/x,x,0)\r\n",
        "expr"
      ],
      "execution_count": null,
      "outputs": [
        {
          "output_type": "stream",
          "text": [
            "1\n",
            "nan\n",
            "0\n"
          ],
          "name": "stdout"
        },
        {
          "output_type": "execute_result",
          "data": {
            "image/png": "[encoded data removed]",
            "text/latex": "$$\\lim_{x \\to 0^+}\\left(\\frac{1}{x} \\left(\\cos{\\left (x \\right )} - 1\\right)\\right)$$",
            "text/plain": [
              "     ⎛cos(x) - 1⎞\n",
              " lim ⎜──────────⎟\n",
              "x─→0⁺⎝    x     ⎠"
            ]
          },
          "metadata": {
            "tags": []
          },
          "execution_count": 36
        }
      ]
    },
    {
      "cell_type": "code",
      "metadata": {
        "colab": {
          "base_uri": "https://localhost:8080/",
          "height": 37
        },
        "id": "89navD228L_I",
        "outputId": "7f1e264e-0945-463c-e1e6-71acbbb6d94b"
      },
      "source": [
        "expr.doit()"
      ],
      "execution_count": null,
      "outputs": [
        {
          "output_type": "execute_result",
          "data": {
            "image/png": "[encoded data removed]",
            "text/latex": "$$0$$",
            "text/plain": [
              "0"
            ]
          },
          "metadata": {
            "tags": []
          },
          "execution_count": 37
        }
      ]
    },
    {
      "cell_type": "code",
      "metadata": {
        "colab": {
          "base_uri": "https://localhost:8080/",
          "height": 37
        },
        "id": "sEUNnR3v8Oqh",
        "outputId": "3a9a9a96-dcc6-42c0-c0ee-6b6def3dd942"
      },
      "source": [
        "limit(1/x,x,0,'+')"
      ],
      "execution_count": null,
      "outputs": [
        {
          "output_type": "execute_result",
          "data": {
            "image/png": "[encoded data removed]",
            "text/latex": "$$\\infty$$",
            "text/plain": [
              "∞"
            ]
          },
          "metadata": {
            "tags": []
          },
          "execution_count": 38
        }
      ]
    },
    {
      "cell_type": "code",
      "metadata": {
        "colab": {
          "base_uri": "https://localhost:8080/",
          "height": 37
        },
        "id": "PsVQXDZa8T-v",
        "outputId": "b564178f-079b-416d-ea2c-4128aa796406"
      },
      "source": [
        "limit(1/x,x,0,'-')"
      ],
      "execution_count": null,
      "outputs": [
        {
          "output_type": "execute_result",
          "data": {
            "image/png": "[encoded data removed]",
            "text/latex": "$$-\\infty$$",
            "text/plain": [
              "-∞"
            ]
          },
          "metadata": {
            "tags": []
          },
          "execution_count": 39
        }
      ]
    },
    {
      "cell_type": "markdown",
      "metadata": {
        "id": "50MnBWYf3Vhq"
      },
      "source": [
        "##### **6.d Series Expansion**"
      ]
    },
    {
      "cell_type": "code",
      "metadata": {
        "colab": {
          "base_uri": "https://localhost:8080/",
          "height": 41
        },
        "id": "s4hqkhCC8awh",
        "outputId": "8e590c36-d428-4b7c-d9a4-a90f5f6c6619"
      },
      "source": [
        "expr = exp(sin(x))\r\n",
        "expr.series(x,0,4)"
      ],
      "execution_count": null,
      "outputs": [
        {
          "output_type": "execute_result",
          "data": {
            "image/png": "[encoded data removed]",
            "text/latex": "$$1 + x + \\frac{x^{2}}{2} + \\mathcal{O}\\left(x^{4}\\right)$$",
            "text/plain": [
              "         2        \n",
              "        x     ⎛ 4⎞\n",
              "1 + x + ── + O⎝x ⎠\n",
              "        2         "
            ]
          },
          "metadata": {
            "tags": []
          },
          "execution_count": 40
        }
      ]
    },
    {
      "cell_type": "code",
      "metadata": {
        "colab": {
          "base_uri": "https://localhost:8080/",
          "height": 39
        },
        "id": "CEVy70078gtu",
        "outputId": "816297ea-7207-4e31-979c-d503a7965194"
      },
      "source": [
        "x+x**3+x**6+O(x**4)"
      ],
      "execution_count": null,
      "outputs": [
        {
          "output_type": "execute_result",
          "data": {
            "image/png": "[encoded data removed]",
            "text/latex": "$$x + x^{3} + \\mathcal{O}\\left(x^{4}\\right)$$",
            "text/plain": [
              "     3    ⎛ 4⎞\n",
              "x + x  + O⎝x ⎠"
            ]
          },
          "metadata": {
            "tags": []
          },
          "execution_count": 42
        }
      ]
    },
    {
      "cell_type": "code",
      "metadata": {
        "colab": {
          "base_uri": "https://localhost:8080/",
          "height": 39
        },
        "id": "VBjtJNcP8v5t",
        "outputId": "55cbba09-6311-4e9d-b241-4988f24fd4ca"
      },
      "source": [
        "x*O(1)"
      ],
      "execution_count": null,
      "outputs": [
        {
          "output_type": "execute_result",
          "data": {
            "image/png": "[encoded data removed]",
            "text/latex": "$$\\mathcal{O}\\left(x\\right)$$",
            "text/plain": [
              "O(x)"
            ]
          },
          "metadata": {
            "tags": []
          },
          "execution_count": 43
        }
      ]
    },
    {
      "cell_type": "code",
      "metadata": {
        "colab": {
          "base_uri": "https://localhost:8080/",
          "height": 41
        },
        "id": "dKzpWln3814U",
        "outputId": "bddd4afa-8028-4e0b-965a-9754b2fa4086"
      },
      "source": [
        "expr.series(x,0,4).removeO()"
      ],
      "execution_count": null,
      "outputs": [
        {
          "output_type": "execute_result",
          "data": {
            "image/png": "[encoded data removed]",
            "text/latex": "$$\\frac{x^{2}}{2} + x + 1$$",
            "text/plain": [
              " 2        \n",
              "x         \n",
              "── + x + 1\n",
              "2         "
            ]
          },
          "metadata": {
            "tags": []
          },
          "execution_count": 44
        }
      ]
    },
    {
      "cell_type": "code",
      "metadata": {
        "colab": {
          "base_uri": "https://localhost:8080/",
          "height": 47
        },
        "id": "nRUbH0yp88rl",
        "outputId": "3a67ca48-defe-4f24-e0b2-dcbf492144bc"
      },
      "source": [
        "exp(x-6).series(x,x0=6)"
      ],
      "execution_count": null,
      "outputs": [
        {
          "output_type": "execute_result",
          "data": {
            "image/png": "[encoded data removed]",
            "text/latex": "$$-5 + \\frac{1}{2} \\left(x - 6\\right)^{2} + \\frac{1}{6} \\left(x - 6\\right)^{3} + \\frac{1}{24} \\left(x - 6\\right)^{4} + \\frac{1}{120} \\left(x - 6\\right)^{5} + x + \\mathcal{O}\\left(\\left(x - 6\\right)^{6}; x\\rightarrow 6\\right)$$",
            "text/plain": [
              "            2          3          4          5                         \n",
              "     (x - 6)    (x - 6)    (x - 6)    (x - 6)         ⎛       6       ⎞\n",
              "-5 + ──────── + ──────── + ──────── + ──────── + x + O⎝(x - 6) ; x → 6⎠\n",
              "        2          6          24        120                            "
            ]
          },
          "metadata": {
            "tags": []
          },
          "execution_count": 45
        }
      ]
    },
    {
      "cell_type": "markdown",
      "metadata": {
        "id": "aM0IWNlY3cjc"
      },
      "source": [
        "##### **6.e Finite Differences**"
      ]
    },
    {
      "cell_type": "code",
      "metadata": {
        "colab": {
          "base_uri": "https://localhost:8080/",
          "height": 39
        },
        "id": "dvNOcz9W9G_G",
        "outputId": "03687ad4-c74d-4e5a-8de8-54c7d529e5f3"
      },
      "source": [
        "f,g = symbols('f g', cls=Function)\r\n",
        "differentiate_finite(f(x)*g(x))"
      ],
      "execution_count": null,
      "outputs": [
        {
          "output_type": "execute_result",
          "data": {
            "image/png": "[encoded data removed]",
            "text/latex": "$$- f{\\left (x - \\frac{1}{2} \\right )} g{\\left (x - \\frac{1}{2} \\right )} + f{\\left (x + \\frac{1}{2} \\right )} g{\\left (x + \\frac{1}{2} \\right )}$$",
            "text/plain": [
              "-f(x - 1/2)⋅g(x - 1/2) + f(x + 1/2)⋅g(x + 1/2)"
            ]
          },
          "metadata": {
            "tags": []
          },
          "execution_count": 46
        }
      ]
    },
    {
      "cell_type": "code",
      "metadata": {
        "colab": {
          "base_uri": "https://localhost:8080/",
          "height": 39
        },
        "id": "Z3hhLZBD9TvR",
        "outputId": "3a6d3dd7-29bd-4ef2-9de7-7312dcd9fb5f"
      },
      "source": [
        "f=Function('f')\r\n",
        "dfdx=f(x).diff(x)\r\n",
        "dfdx.as_finite_difference()"
      ],
      "execution_count": null,
      "outputs": [
        {
          "output_type": "execute_result",
          "data": {
            "image/png": "[encoded data removed]",
            "text/latex": "$$- f{\\left (x - \\frac{1}{2} \\right )} + f{\\left (x + \\frac{1}{2} \\right )}$$",
            "text/plain": [
              "-f(x - 1/2) + f(x + 1/2)"
            ]
          },
          "metadata": {
            "tags": []
          },
          "execution_count": 47
        }
      ]
    },
    {
      "cell_type": "code",
      "metadata": {
        "colab": {
          "base_uri": "https://localhost:8080/",
          "height": 39
        },
        "id": "AbU7UGlR9fLY",
        "outputId": "6c6379f6-9dbe-4d17-f564-c5b4d86093ca"
      },
      "source": [
        "f = Function('f')\r\n",
        "d2fdx2 = f(x).diff(x,2)\r\n",
        "h = Symbol('h')\r\n",
        "d2fdx2.as_finite_difference([-3*h,-h,2*h])"
      ],
      "execution_count": null,
      "outputs": [
        {
          "output_type": "execute_result",
          "data": {
            "image/png": "[encoded data removed]",
            "text/latex": "$$\\frac{1}{5 h^{2}} f{\\left (- 3 h \\right )} - \\frac{1}{3 h^{2}} f{\\left (- h \\right )} + \\frac{2}{15 h^{2}} f{\\left (2 h \\right )}$$",
            "text/plain": [
              "f(-3⋅h)   f(-h)   2⋅f(2⋅h)\n",
              "─────── - ───── + ────────\n",
              "     2        2        2  \n",
              "  5⋅h      3⋅h     15⋅h   "
            ]
          },
          "metadata": {
            "tags": []
          },
          "execution_count": 48
        }
      ]
    },
    {
      "cell_type": "code",
      "metadata": {
        "colab": {
          "base_uri": "https://localhost:8080/",
          "height": 39
        },
        "id": "KMN2_LCZ9zIb",
        "outputId": "f20fd645-f0a3-4aee-8aff-bdd0173ca505"
      },
      "source": [
        "finite_diff_weights(2,[-3,-1,2],0)[-1][-1]"
      ],
      "execution_count": null,
      "outputs": [
        {
          "output_type": "execute_result",
          "data": {
            "image/png": "[encoded data removed]",
            "text/latex": "$$\\left [ \\frac{1}{5}, \\quad - \\frac{1}{3}, \\quad \\frac{2}{15}\\right ]$$",
            "text/plain": [
              "[1/5, -1/3, 2/15]"
            ]
          },
          "metadata": {
            "tags": []
          },
          "execution_count": 49
        }
      ]
    },
    {
      "cell_type": "code",
      "metadata": {
        "colab": {
          "base_uri": "https://localhost:8080/",
          "height": 39
        },
        "id": "u1puLrT598Gs",
        "outputId": "58ac7570-0b96-467e-c549-de95e36a159b"
      },
      "source": [
        "x_list = [-3,1,2]\r\n",
        "y_list = symbols('a b c')\r\n",
        "apply_finite_diff(1, x_list, y_list, 0)"
      ],
      "execution_count": null,
      "outputs": [
        {
          "output_type": "execute_result",
          "data": {
            "image/png": "[encoded data removed]",
            "text/latex": "$$- \\frac{3 a}{20} - \\frac{b}{4} + \\frac{2 c}{5}$$",
            "text/plain": [
              "  3⋅a   b   2⋅c\n",
              "- ─── - ─ + ───\n",
              "   20   4    5 "
            ]
          },
          "metadata": {
            "tags": []
          },
          "execution_count": 51
        }
      ]
    },
    {
      "cell_type": "markdown",
      "metadata": {
        "id": "fpbX2ZdBhumf"
      },
      "source": [
        "### **7. Solver**"
      ]
    },
    {
      "cell_type": "markdown",
      "metadata": {
        "id": "dBNnNzp_-Vix"
      },
      "source": [
        "##### **7.a note about Equations**"
      ]
    },
    {
      "cell_type": "code",
      "metadata": {
        "id": "n-KqrZIzhssb",
        "colab": {
          "base_uri": "https://localhost:8080/"
        },
        "outputId": "01a99bd7-d425-4824-8e1a-472215eaf61b"
      },
      "source": [
        "pprint(Eq(x,y))\r\n",
        "pprint(solveset(Eq(x**2,1),x))\r\n",
        "pprint(solveset(Eq(x**2-1,0),x))\r\n",
        "pprint(solveset(x**2-1,x))"
      ],
      "execution_count": null,
      "outputs": [
        {
          "output_type": "stream",
          "text": [
            "x = y\n",
            "{-1, 1}\n",
            "{-1, 1}\n",
            "{-1, 1}\n"
          ],
          "name": "stdout"
        }
      ]
    },
    {
      "cell_type": "markdown",
      "metadata": {
        "id": "pAXdIuGdFWWM"
      },
      "source": [
        "##### **7.b Solving Equations Algebraically**"
      ]
    },
    {
      "cell_type": "code",
      "metadata": {
        "colab": {
          "base_uri": "https://localhost:8080/",
          "height": 73
        },
        "id": "bbOAe7naFbXz",
        "outputId": "6d9f8292-e9c9-4e5c-81c6-cefc250ac240"
      },
      "source": [
        "pprint(solveset(x**2-x,x))\r\n",
        "pprint(solveset(x-x,x,domain=S.Reals))\r\n",
        "solveset(sin(x)-1,x,domain=S.Reals)"
      ],
      "execution_count": null,
      "outputs": [
        {
          "output_type": "stream",
          "text": [
            "{0, 1}\n",
            "ℝ\n"
          ],
          "name": "stdout"
        },
        {
          "output_type": "execute_result",
          "data": {
            "image/png": "[encoded data removed]",
            "text/latex": "$$\\left\\{2 n \\pi + \\frac{\\pi}{2}\\; |\\; n \\in \\mathbb{Z}\\right\\}$$",
            "text/plain": [
              "⎧        π        ⎫\n",
              "⎨2⋅n⋅π + ─ | n ∊ ℤ⎬\n",
              "⎩        2        ⎭"
            ]
          },
          "metadata": {
            "tags": []
          },
          "execution_count": 62
        }
      ]
    },
    {
      "cell_type": "code",
      "metadata": {
        "colab": {
          "base_uri": "https://localhost:8080/"
        },
        "id": "KGIrUzCVGwx4",
        "outputId": "fd6eb65c-15ca-4949-c812-33748dc235b7"
      },
      "source": [
        "pprint(solveset(exp(x),x))\r\n",
        "pprint(solveset(cos(x)-x,x))"
      ],
      "execution_count": null,
      "outputs": [
        {
          "output_type": "stream",
          "text": [
            "∅\n",
            "{x | x ∊ ℂ ∧ -x + cos(x) = 0}\n"
          ],
          "name": "stdout"
        }
      ]
    },
    {
      "cell_type": "code",
      "metadata": {
        "colab": {
          "base_uri": "https://localhost:8080/"
        },
        "id": "Q0bKDszGHT4-",
        "outputId": "3c2051fe-1244-4805-a212-9a28f817becc"
      },
      "source": [
        "#List of Equations Form\r\n",
        "pprint(linsolve([x+y+z-1,x+y+2*z-3], (x,y,z)))\r\n",
        "#Augmented Matrix Form\r\n",
        "pprint(linsolve(Matrix(([1,1,1,1],[1,1,2,3])),(x,y,z)))\r\n",
        "#A*x = b Form\r\n",
        "M = Matrix(((1,1,1,1),(1,1,2,3)))\r\n",
        "system =  A,b = M[:, :-1], M[:,-1]\r\n",
        "pprint(linsolve(system,x,y,z))"
      ],
      "execution_count": null,
      "outputs": [
        {
          "output_type": "stream",
          "text": [
            "{(-y - 1, y, 2)}\n",
            "{(-y - 1, y, 2)}\n",
            "{(-y - 1, y, 2)}\n"
          ],
          "name": "stdout"
        }
      ]
    },
    {
      "cell_type": "code",
      "metadata": {
        "colab": {
          "base_uri": "https://localhost:8080/"
        },
        "id": "jf-DxMk8ICXa",
        "outputId": "76ca9c6c-060f-4b0c-b0eb-219e901b2f54"
      },
      "source": [
        "# 1. When only real solution is present\r\n",
        "print('1. When only real solution is present')\r\n",
        "a,b,c,d = symbols('a, b, c, d', real=True)\r\n",
        "pprint(nonlinsolve([a**2+a,a-b], [a,b]))\r\n",
        "pprint(nonlinsolve([x*y-1,x-2],x,y))\r\n",
        "# 2. When only complex solution is present\r\n",
        "print('2. When only complex solution is present')\r\n",
        "pprint(nonlinsolve([x**2+1, y**2+1],[x,y]))\r\n",
        "# 3. When both real and complex solution are present\r\n",
        "print('3. When both real and complex solution are present')\r\n",
        "system = [x**2-2*y**2-2,x*y-2]\r\n",
        "vars = [x,y]\r\n",
        "pprint(nonlinsolve(system, vars))\r\n",
        "system = [exp(x)-sin(y),1/y-3]\r\n",
        "pprint(nonlinsolve(system, vars))\r\n",
        "# 4. When the system is positive-dimensional system (has infinitely many solutions)\r\n",
        "print('4. When the system is positive-dimensional system (has infinitely many solutions)')\r\n",
        "pprint(nonlinsolve([x*y,x*y-x],[x,y]))\r\n",
        "system = [a**2 + a*c, a-b]\r\n",
        "pprint(nonlinsolve(system, [a,b]))"
      ],
      "execution_count": null,
      "outputs": [
        {
          "output_type": "stream",
          "text": [
            "1. When only real solution is present\n",
            "{(-1, -1), (0, 0)}\n",
            "{(2, 1/2)}\n",
            "2. When only complex solution is present\n",
            "{(-ⅈ, -ⅈ), (-ⅈ, ⅈ), (ⅈ, -ⅈ), (ⅈ, ⅈ)}\n",
            "3. When both real and complex solution are present\n",
            "{(-2, -1), (2, 1), (-√2⋅ⅈ, √2⋅ⅈ), (√2⋅ⅈ, -√2⋅ⅈ)}\n",
            "{(log(sin(1/3)), 1/3), ({2⋅n⋅ⅈ⋅π + (log(sin(1/3)) mod 2⋅ⅈ⋅π) | n ∊ ℤ}, 1/3)}\n",
            "4. When the system is positive-dimensional system (has infinitely many solutions)\n",
            "{(0, y)}\n",
            "{(0, 0), (-c, -c)}\n"
          ],
          "name": "stdout"
        }
      ]
    },
    {
      "cell_type": "code",
      "metadata": {
        "colab": {
          "base_uri": "https://localhost:8080/",
          "height": 39
        },
        "id": "9DYTgpE2KFjW",
        "outputId": "24ee9a91-6be6-4cc9-913b-36b1ebd470ac"
      },
      "source": [
        "solve([x**2 - y**2/exp(x)],[x,y], dict=True)"
      ],
      "execution_count": null,
      "outputs": [
        {
          "output_type": "execute_result",
          "data": {
            "image/png": "[encoded data removed]",
            "text/latex": "$$\\left [ \\left \\{ x : 2 \\operatorname{LambertW}{\\left (\\frac{y}{2} \\right )}\\right \\}\\right ]$$",
            "text/plain": [
              "⎡⎧             ⎛y⎞⎫⎤\n",
              "⎢⎨x: 2⋅LambertW⎜─⎟⎬⎥\n",
              "⎣⎩             ⎝2⎠⎭⎦"
            ]
          },
          "metadata": {
            "tags": []
          },
          "execution_count": 72
        }
      ]
    },
    {
      "cell_type": "code",
      "metadata": {
        "colab": {
          "base_uri": "https://localhost:8080/",
          "height": 39
        },
        "id": "H-0Q74h_KOYc",
        "outputId": "e863d94a-ce89-4875-8286-11d09d1be49f"
      },
      "source": [
        "solve([sin(x+y),cos(x-y)],[x,y])"
      ],
      "execution_count": null,
      "outputs": [
        {
          "output_type": "execute_result",
          "data": {
            "image/png": "[encoded data removed]",
            "text/latex": "$$\\left [ \\left ( - \\frac{3 \\pi}{4}, \\quad \\frac{3 \\pi}{4}\\right ), \\quad \\left ( - \\frac{\\pi}{4}, \\quad \\frac{\\pi}{4}\\right ), \\quad \\left ( \\frac{\\pi}{4}, \\quad \\frac{3 \\pi}{4}\\right ), \\quad \\left ( \\frac{3 \\pi}{4}, \\quad \\frac{\\pi}{4}\\right )\\right ]$$",
            "text/plain": [
              "⎡⎛-3⋅π   3⋅π⎞  ⎛-π   π⎞  ⎛π  3⋅π⎞  ⎛3⋅π  π⎞⎤\n",
              "⎢⎜─────, ───⎟, ⎜───, ─⎟, ⎜─, ───⎟, ⎜───, ─⎟⎥\n",
              "⎣⎝  4     4 ⎠  ⎝ 4   4⎠  ⎝4   4 ⎠  ⎝ 4   4⎠⎦"
            ]
          },
          "metadata": {
            "tags": []
          },
          "execution_count": 73
        }
      ]
    },
    {
      "cell_type": "code",
      "metadata": {
        "colab": {
          "base_uri": "https://localhost:8080/"
        },
        "id": "fLJTkBnFKe5j",
        "outputId": "ced32113-9b3f-495c-9f8e-40ab4347f7db"
      },
      "source": [
        "pprint(solveset(x**3-6*x**2+9*x,x))\r\n",
        "pprint(roots(x**3-6*x**2+9*x,x))\r\n",
        "pprint(solve(x*exp(x)-1,x))"
      ],
      "execution_count": null,
      "outputs": [
        {
          "output_type": "stream",
          "text": [
            "{0, 3}\n",
            "{0: 1, 3: 2}\n",
            "[LambertW(1)]\n"
          ],
          "name": "stdout"
        }
      ]
    },
    {
      "cell_type": "markdown",
      "metadata": {
        "id": "Myofhyl0Fbp3"
      },
      "source": [
        "##### **7.c Solving Differential Equations**"
      ]
    },
    {
      "cell_type": "code",
      "metadata": {
        "colab": {
          "base_uri": "https://localhost:8080/",
          "height": 110
        },
        "id": "ophMVLuBFhiL",
        "outputId": "b4936c02-16eb-4add-ea5c-50b226632367"
      },
      "source": [
        "f, g = symbols('f g', cls=Function)\r\n",
        "pprint(f(x))\r\n",
        "pprint(f(x).diff(x))\r\n",
        "diffeq = Eq(f(x).diff(x,x)-2*f(x).diff(x)+f(x),sin(x))\r\n",
        "diffeq"
      ],
      "execution_count": null,
      "outputs": [
        {
          "output_type": "stream",
          "text": [
            "f(x)\n",
            "d       \n",
            "──(f(x))\n",
            "dx      \n"
          ],
          "name": "stdout"
        },
        {
          "output_type": "execute_result",
          "data": {
            "image/png": "[encoded data removed]",
            "text/latex": "$$f{\\left (x \\right )} - 2 \\frac{d}{d x} f{\\left (x \\right )} + \\frac{d^{2}}{d x^{2}}  f{\\left (x \\right )} = \\sin{\\left (x \\right )}$$",
            "text/plain": [
              "                      2               \n",
              "         d           d                \n",
              "f(x) - 2⋅──(f(x)) + ───(f(x)) = sin(x)\n",
              "         dx           2               \n",
              "                    dx                "
            ]
          },
          "metadata": {
            "tags": []
          },
          "execution_count": 77
        }
      ]
    },
    {
      "cell_type": "code",
      "metadata": {
        "colab": {
          "base_uri": "https://localhost:8080/"
        },
        "id": "PgtTjK3ZLiQn",
        "outputId": "2eda9a30-90fa-44ac-fc50-3ea0f57647ad"
      },
      "source": [
        "pprint(dsolve(diffeq, f(x)))\r\n",
        "pprint(dsolve(f(x).diff(x)*(1-sin(f(x)))-1, f(x)))"
      ],
      "execution_count": null,
      "outputs": [
        {
          "output_type": "stream",
          "text": [
            "                    x   cos(x)\n",
            "f(x) = (C₁ + C₂⋅x)⋅ℯ  + ──────\n",
            "                          2   \n",
            "-x + f(x) + cos(f(x)) = C₁\n"
          ],
          "name": "stdout"
        }
      ]
    },
    {
      "cell_type": "markdown",
      "metadata": {
        "id": "r5Zn2BdqFh5M"
      },
      "source": [
        ""
      ]
    },
    {
      "cell_type": "markdown",
      "metadata": {
        "id": "F2tzzdKEhyHY"
      },
      "source": [
        "### **8. Matrices**"
      ]
    },
    {
      "cell_type": "code",
      "metadata": {
        "id": "ifDtqDlKh0nm",
        "colab": {
          "base_uri": "https://localhost:8080/"
        },
        "outputId": "5fffc2cf-ed63-4a44-a721-52d8b8eb72e2"
      },
      "source": [
        "pprint(Matrix([[1,-1],[3,4],[0,2]]))\r\n",
        "pprint(Matrix([1,2,3]))\r\n",
        "M = Matrix([[1,2,3],[3,2,1]])\r\n",
        "N = Matrix([0,1,1])\r\n",
        "pprint(M*N)"
      ],
      "execution_count": null,
      "outputs": [
        {
          "output_type": "stream",
          "text": [
            "⎡1  -1⎤\n",
            "⎢     ⎥\n",
            "⎢3  4 ⎥\n",
            "⎢     ⎥\n",
            "⎣0  2 ⎦\n",
            "⎡1⎤\n",
            "⎢ ⎥\n",
            "⎢2⎥\n",
            "⎢ ⎥\n",
            "⎣3⎦\n",
            "⎡5⎤\n",
            "⎢ ⎥\n",
            "⎣3⎦\n"
          ],
          "name": "stdout"
        }
      ]
    },
    {
      "cell_type": "markdown",
      "metadata": {
        "id": "Qfpb1gS-L9FD"
      },
      "source": [
        "##### **8.a Basic Operations**\r\n",
        "- *Shape*\r\n",
        "- *Accesing Rows and Columns*\r\n",
        "- *Deleting and Inserting Rows and Columns*\r\n"
      ]
    },
    {
      "cell_type": "code",
      "metadata": {
        "colab": {
          "base_uri": "https://localhost:8080/",
          "height": 37
        },
        "id": "sRTJvSHMNVvv",
        "outputId": "ff749755-c8ce-43fb-ea5b-844214b67160"
      },
      "source": [
        "M = Matrix([[1,2,3],[-2,0,4]])\r\n",
        "M.shape"
      ],
      "execution_count": null,
      "outputs": [
        {
          "output_type": "execute_result",
          "data": {
            "image/png": "[encoded data removed]",
            "text/latex": "$$\\left ( 2, \\quad 3\\right )$$",
            "text/plain": [
              "(2, 3)"
            ]
          },
          "metadata": {
            "tags": []
          },
          "execution_count": 93
        }
      ]
    },
    {
      "cell_type": "code",
      "metadata": {
        "colab": {
          "base_uri": "https://localhost:8080/",
          "height": 39
        },
        "id": "MLH3qm1RO9cc",
        "outputId": "5841543c-b06b-4547-cda3-a299b99c55aa"
      },
      "source": [
        "M.row(0)"
      ],
      "execution_count": null,
      "outputs": [
        {
          "output_type": "execute_result",
          "data": {
            "text/latex": "$$\\left[\\begin{matrix}1 & 2 & 3\\end{matrix}\\right]$$",
            "text/plain": [
              "[1  2  3]"
            ]
          },
          "metadata": {
            "tags": []
          },
          "execution_count": 94
        }
      ]
    },
    {
      "cell_type": "code",
      "metadata": {
        "colab": {
          "base_uri": "https://localhost:8080/",
          "height": 58
        },
        "id": "l7HhA2doO_4O",
        "outputId": "db91734c-77a2-4d60-a3e4-72dcd5b16fec"
      },
      "source": [
        "M.col(-1)"
      ],
      "execution_count": null,
      "outputs": [
        {
          "output_type": "execute_result",
          "data": {
            "text/latex": "$$\\left[\\begin{matrix}3\\\\4\\end{matrix}\\right]$$",
            "text/plain": [
              "⎡3⎤\n",
              "⎢ ⎥\n",
              "⎣4⎦"
            ]
          },
          "metadata": {
            "tags": []
          },
          "execution_count": 95
        }
      ]
    },
    {
      "cell_type": "code",
      "metadata": {
        "colab": {
          "base_uri": "https://localhost:8080/",
          "height": 58
        },
        "id": "Pjzrx2taPCho",
        "outputId": "46a3f658-46f3-4076-c582-0c9d9219db0a"
      },
      "source": [
        "M.col_del(0)\r\n",
        "M"
      ],
      "execution_count": null,
      "outputs": [
        {
          "output_type": "execute_result",
          "data": {
            "text/latex": "$$\\left[\\begin{matrix}2 & 3\\\\0 & 4\\end{matrix}\\right]$$",
            "text/plain": [
              "⎡2  3⎤\n",
              "⎢    ⎥\n",
              "⎣0  4⎦"
            ]
          },
          "metadata": {
            "tags": []
          },
          "execution_count": 96
        }
      ]
    },
    {
      "cell_type": "code",
      "metadata": {
        "colab": {
          "base_uri": "https://localhost:8080/",
          "height": 39
        },
        "id": "ILGgwrLZPKB0",
        "outputId": "ff3f9db3-6c61-4f41-b86c-b7fdae5450ce"
      },
      "source": [
        "M.row_del(1)\r\n",
        "M"
      ],
      "execution_count": null,
      "outputs": [
        {
          "output_type": "execute_result",
          "data": {
            "text/latex": "$$\\left[\\begin{matrix}2 & 3\\end{matrix}\\right]$$",
            "text/plain": [
              "[2  3]"
            ]
          },
          "metadata": {
            "tags": []
          },
          "execution_count": 97
        }
      ]
    },
    {
      "cell_type": "code",
      "metadata": {
        "id": "qSgRibdLPOzn"
      },
      "source": [
        "M = M.row_insert(1, Matrix([[0,4]]))\r\n",
        "M = M.col_insert(0, Matrix([1,-2]))"
      ],
      "execution_count": null,
      "outputs": []
    },
    {
      "cell_type": "code",
      "metadata": {
        "colab": {
          "base_uri": "https://localhost:8080/",
          "height": 58
        },
        "id": "KGtrqp7qPaQf",
        "outputId": "30dde1c4-089a-425d-89f6-3d2aaf1dc789"
      },
      "source": [
        "M"
      ],
      "execution_count": null,
      "outputs": [
        {
          "output_type": "execute_result",
          "data": {
            "text/latex": "$$\\left[\\begin{matrix}1 & 2 & 3\\\\-2 & 0 & 4\\end{matrix}\\right]$$",
            "text/plain": [
              "⎡1   2  3⎤\n",
              "⎢        ⎥\n",
              "⎣-2  0  4⎦"
            ]
          },
          "metadata": {
            "tags": []
          },
          "execution_count": 99
        }
      ]
    },
    {
      "cell_type": "markdown",
      "metadata": {
        "id": "osCDRRc-MApw"
      },
      "source": [
        "##### **8.b Basic Methods**"
      ]
    },
    {
      "cell_type": "code",
      "metadata": {
        "colab": {
          "base_uri": "https://localhost:8080/",
          "height": 58
        },
        "id": "nHm6QV8gMJtV",
        "outputId": "10f1c904-e7ff-453d-838a-99c89e7d7ffb"
      },
      "source": [
        "M = Matrix([[1,3],[-2,3]])\r\n",
        "N = Matrix([[0,3],[0,7]])\r\n",
        "M+N"
      ],
      "execution_count": null,
      "outputs": [
        {
          "output_type": "execute_result",
          "data": {
            "text/latex": "$$\\left[\\begin{matrix}1 & 6\\\\-2 & 10\\end{matrix}\\right]$$",
            "text/plain": [
              "⎡1   6 ⎤\n",
              "⎢      ⎥\n",
              "⎣-2  10⎦"
            ]
          },
          "metadata": {
            "tags": []
          },
          "execution_count": 100
        }
      ]
    },
    {
      "cell_type": "code",
      "metadata": {
        "colab": {
          "base_uri": "https://localhost:8080/",
          "height": 58
        },
        "id": "EKsLWhX0PvlX",
        "outputId": "934371a5-7f27-4974-bc3a-e6c78157ce7e"
      },
      "source": [
        "M*N"
      ],
      "execution_count": null,
      "outputs": [
        {
          "output_type": "execute_result",
          "data": {
            "text/latex": "$$\\left[\\begin{matrix}0 & 24\\\\0 & 15\\end{matrix}\\right]$$",
            "text/plain": [
              "⎡0  24⎤\n",
              "⎢     ⎥\n",
              "⎣0  15⎦"
            ]
          },
          "metadata": {
            "tags": []
          },
          "execution_count": 101
        }
      ]
    },
    {
      "cell_type": "code",
      "metadata": {
        "colab": {
          "base_uri": "https://localhost:8080/",
          "height": 58
        },
        "id": "OZQDP8fUPxaE",
        "outputId": "a5844eea-51d7-44e1-c03f-976e4c686a73"
      },
      "source": [
        "3*M"
      ],
      "execution_count": null,
      "outputs": [
        {
          "output_type": "execute_result",
          "data": {
            "text/latex": "$$\\left[\\begin{matrix}3 & 9\\\\-6 & 9\\end{matrix}\\right]$$",
            "text/plain": [
              "⎡3   9⎤\n",
              "⎢     ⎥\n",
              "⎣-6  9⎦"
            ]
          },
          "metadata": {
            "tags": []
          },
          "execution_count": 102
        }
      ]
    },
    {
      "cell_type": "code",
      "metadata": {
        "colab": {
          "base_uri": "https://localhost:8080/",
          "height": 58
        },
        "id": "zOhwymg0PzYZ",
        "outputId": "7abe49d5-6df6-4b82-810a-1f2c65c6b3c4"
      },
      "source": [
        "M**2"
      ],
      "execution_count": null,
      "outputs": [
        {
          "output_type": "execute_result",
          "data": {
            "text/latex": "$$\\left[\\begin{matrix}-5 & 12\\\\-8 & 3\\end{matrix}\\right]$$",
            "text/plain": [
              "⎡-5  12⎤\n",
              "⎢      ⎥\n",
              "⎣-8  3 ⎦"
            ]
          },
          "metadata": {
            "tags": []
          },
          "execution_count": 103
        }
      ]
    },
    {
      "cell_type": "code",
      "metadata": {
        "colab": {
          "base_uri": "https://localhost:8080/",
          "height": 58
        },
        "id": "B23_nkjjP1ZC",
        "outputId": "e0e91dbb-b0bd-4ffa-e0ce-2a5cabd25a31"
      },
      "source": [
        "M**-1"
      ],
      "execution_count": null,
      "outputs": [
        {
          "output_type": "execute_result",
          "data": {
            "text/latex": "$$\\left[\\begin{matrix}\\frac{1}{3} & - \\frac{1}{3}\\\\\\frac{2}{9} & \\frac{1}{9}\\end{matrix}\\right]$$",
            "text/plain": [
              "⎡1/3  -1/3⎤\n",
              "⎢         ⎥\n",
              "⎣2/9  1/9 ⎦"
            ]
          },
          "metadata": {
            "tags": []
          },
          "execution_count": 104
        }
      ]
    },
    {
      "cell_type": "code",
      "metadata": {
        "colab": {
          "base_uri": "https://localhost:8080/",
          "height": 58
        },
        "id": "px7CUAwvRce0",
        "outputId": "c868068a-3863-414f-bcff-0fdbdc205c02"
      },
      "source": [
        "M"
      ],
      "execution_count": null,
      "outputs": [
        {
          "output_type": "execute_result",
          "data": {
            "text/latex": "$$\\left[\\begin{matrix}1 & 3\\\\-2 & 3\\end{matrix}\\right]$$",
            "text/plain": [
              "⎡1   3⎤\n",
              "⎢     ⎥\n",
              "⎣-2  3⎦"
            ]
          },
          "metadata": {
            "tags": []
          },
          "execution_count": 107
        }
      ]
    },
    {
      "cell_type": "code",
      "metadata": {
        "colab": {
          "base_uri": "https://localhost:8080/",
          "height": 58
        },
        "id": "fEvV6ieVQhKI",
        "outputId": "8c8e5401-0748-4665-a9be-70ec96c4505f"
      },
      "source": [
        "M.T"
      ],
      "execution_count": null,
      "outputs": [
        {
          "output_type": "execute_result",
          "data": {
            "text/latex": "$$\\left[\\begin{matrix}1 & -2\\\\3 & 3\\end{matrix}\\right]$$",
            "text/plain": [
              "⎡1  -2⎤\n",
              "⎢     ⎥\n",
              "⎣3  3 ⎦"
            ]
          },
          "metadata": {
            "tags": []
          },
          "execution_count": 106
        }
      ]
    },
    {
      "cell_type": "markdown",
      "metadata": {
        "id": "IKSaMrtLMKB2"
      },
      "source": [
        "##### **8.c Matrix Constructors**"
      ]
    },
    {
      "cell_type": "code",
      "metadata": {
        "colab": {
          "base_uri": "https://localhost:8080/",
          "height": 79
        },
        "id": "m837U6EeMPmB",
        "outputId": "a6070a67-735b-4f6c-86d1-d5aab5a71ef3"
      },
      "source": [
        "eye(3)"
      ],
      "execution_count": null,
      "outputs": [
        {
          "output_type": "execute_result",
          "data": {
            "text/latex": "$$\\left[\\begin{matrix}1 & 0 & 0\\\\0 & 1 & 0\\\\0 & 0 & 1\\end{matrix}\\right]$$",
            "text/plain": [
              "⎡1  0  0⎤\n",
              "⎢       ⎥\n",
              "⎢0  1  0⎥\n",
              "⎢       ⎥\n",
              "⎣0  0  1⎦"
            ]
          },
          "metadata": {
            "tags": []
          },
          "execution_count": 108
        }
      ]
    },
    {
      "cell_type": "code",
      "metadata": {
        "colab": {
          "base_uri": "https://localhost:8080/",
          "height": 58
        },
        "id": "og_5M4TcRih6",
        "outputId": "bc7a272a-5f5d-49a1-b8a0-599edff8bd8d"
      },
      "source": [
        "zeros(2,3)"
      ],
      "execution_count": null,
      "outputs": [
        {
          "output_type": "execute_result",
          "data": {
            "text/latex": "$$\\left[\\begin{matrix}0 & 0 & 0\\\\0 & 0 & 0\\end{matrix}\\right]$$",
            "text/plain": [
              "⎡0  0  0⎤\n",
              "⎢       ⎥\n",
              "⎣0  0  0⎦"
            ]
          },
          "metadata": {
            "tags": []
          },
          "execution_count": 109
        }
      ]
    },
    {
      "cell_type": "code",
      "metadata": {
        "colab": {
          "base_uri": "https://localhost:8080/",
          "height": 79
        },
        "id": "Qjc602LtRk-8",
        "outputId": "ddac4291-59e3-4064-fe5b-fd244a7e82ca"
      },
      "source": [
        "ones(3,2)"
      ],
      "execution_count": null,
      "outputs": [
        {
          "output_type": "execute_result",
          "data": {
            "text/latex": "$$\\left[\\begin{matrix}1 & 1\\\\1 & 1\\\\1 & 1\\end{matrix}\\right]$$",
            "text/plain": [
              "⎡1  1⎤\n",
              "⎢    ⎥\n",
              "⎢1  1⎥\n",
              "⎢    ⎥\n",
              "⎣1  1⎦"
            ]
          },
          "metadata": {
            "tags": []
          },
          "execution_count": 110
        }
      ]
    },
    {
      "cell_type": "code",
      "metadata": {
        "colab": {
          "base_uri": "https://localhost:8080/",
          "height": 79
        },
        "id": "baJb8XcERn-6",
        "outputId": "d6717efa-e98a-430b-ae44-6c3a71a98193"
      },
      "source": [
        "diag(1,2,3)"
      ],
      "execution_count": null,
      "outputs": [
        {
          "output_type": "execute_result",
          "data": {
            "text/latex": "$$\\left[\\begin{matrix}1 & 0 & 0\\\\0 & 2 & 0\\\\0 & 0 & 3\\end{matrix}\\right]$$",
            "text/plain": [
              "⎡1  0  0⎤\n",
              "⎢       ⎥\n",
              "⎢0  2  0⎥\n",
              "⎢       ⎥\n",
              "⎣0  0  3⎦"
            ]
          },
          "metadata": {
            "tags": []
          },
          "execution_count": 111
        }
      ]
    },
    {
      "cell_type": "code",
      "metadata": {
        "colab": {
          "base_uri": "https://localhost:8080/",
          "height": 139
        },
        "id": "XRVrPeu3RrT3",
        "outputId": "82d54016-3e84-47d8-adc7-4e0fdd961b92"
      },
      "source": [
        "diag(-1, ones(2,2), Matrix([5,7,5]))"
      ],
      "execution_count": null,
      "outputs": [
        {
          "output_type": "execute_result",
          "data": {
            "text/latex": "$$\\left[\\begin{matrix}-1 & 0 & 0 & 0\\\\0 & 1 & 1 & 0\\\\0 & 1 & 1 & 0\\\\0 & 0 & 0 & 5\\\\0 & 0 & 0 & 7\\\\0 & 0 & 0 & 5\\end{matrix}\\right]$$",
            "text/plain": [
              "⎡-1  0  0  0⎤\n",
              "⎢           ⎥\n",
              "⎢0   1  1  0⎥\n",
              "⎢           ⎥\n",
              "⎢0   1  1  0⎥\n",
              "⎢           ⎥\n",
              "⎢0   0  0  5⎥\n",
              "⎢           ⎥\n",
              "⎢0   0  0  7⎥\n",
              "⎢           ⎥\n",
              "⎣0   0  0  5⎦"
            ]
          },
          "metadata": {
            "tags": []
          },
          "execution_count": 112
        }
      ]
    },
    {
      "cell_type": "markdown",
      "metadata": {
        "id": "VHonK00aMP7Z"
      },
      "source": [
        "##### **8.d Advanced Methods**\r\n",
        "- *Determinant*\r\n",
        "- *RREF*\r\n",
        "- *Nullspace*\r\n",
        "- *Columnspace*\r\n",
        "- *Eigenvalues, Eigenvectors, and Diagonalization*\r\n"
      ]
    },
    {
      "cell_type": "code",
      "metadata": {
        "colab": {
          "base_uri": "https://localhost:8080/",
          "height": 79
        },
        "id": "E8HgXCaOMXSD",
        "outputId": "47687ef2-b7c9-468e-8cde-dd978842d519"
      },
      "source": [
        "M =  Matrix([[1,0,1],[2,-1,3],[4,3,2]])\r\n",
        "M"
      ],
      "execution_count": null,
      "outputs": [
        {
          "output_type": "execute_result",
          "data": {
            "text/latex": "$$\\left[\\begin{matrix}1 & 0 & 1\\\\2 & -1 & 3\\\\4 & 3 & 2\\end{matrix}\\right]$$",
            "text/plain": [
              "⎡1  0   1⎤\n",
              "⎢        ⎥\n",
              "⎢2  -1  3⎥\n",
              "⎢        ⎥\n",
              "⎣4  3   2⎦"
            ]
          },
          "metadata": {
            "tags": []
          },
          "execution_count": 113
        }
      ]
    },
    {
      "cell_type": "code",
      "metadata": {
        "colab": {
          "base_uri": "https://localhost:8080/",
          "height": 37
        },
        "id": "tzOUbEjLTA33",
        "outputId": "a286bf91-6a8f-4e0e-9079-311ba320de1e"
      },
      "source": [
        "M.det()"
      ],
      "execution_count": null,
      "outputs": [
        {
          "output_type": "execute_result",
          "data": {
            "image/png": "[encoded data removed]",
            "text/latex": "$$-1$$",
            "text/plain": [
              "-1"
            ]
          },
          "metadata": {
            "tags": []
          },
          "execution_count": 114
        }
      ]
    },
    {
      "cell_type": "code",
      "metadata": {
        "colab": {
          "base_uri": "https://localhost:8080/",
          "height": 79
        },
        "id": "a4utl8YkTC71",
        "outputId": "eeafce46-4971-4235-db4f-1820c4d16995"
      },
      "source": [
        "M.rref()"
      ],
      "execution_count": null,
      "outputs": [
        {
          "output_type": "execute_result",
          "data": {
            "text/latex": "$$\\left ( \\left[\\begin{matrix}1 & 0 & 0\\\\0 & 1 & 0\\\\0 & 0 & 1\\end{matrix}\\right], \\quad \\left ( 0, \\quad 1, \\quad 2\\right )\\right )$$",
            "text/plain": [
              "⎛⎡1  0  0⎤           ⎞\n",
              "⎜⎢       ⎥           ⎟\n",
              "⎜⎢0  1  0⎥, (0, 1, 2)⎟\n",
              "⎜⎢       ⎥           ⎟\n",
              "⎝⎣0  0  1⎦           ⎠"
            ]
          },
          "metadata": {
            "tags": []
          },
          "execution_count": 115
        }
      ]
    },
    {
      "cell_type": "code",
      "metadata": {
        "colab": {
          "base_uri": "https://localhost:8080/",
          "height": 119
        },
        "id": "nOXj4pB0THBJ",
        "outputId": "d9c788f2-29fb-4e14-f1f3-ddcb50e5d31d"
      },
      "source": [
        "M = Matrix([[1,2,3,0,0],[4,10,0,0,1]])\r\n",
        "M.nullspace()"
      ],
      "execution_count": null,
      "outputs": [
        {
          "output_type": "execute_result",
          "data": {
            "text/latex": "$$\\left [ \\left[\\begin{matrix}-15\\\\6\\\\1\\\\0\\\\0\\end{matrix}\\right], \\quad \\left[\\begin{matrix}0\\\\0\\\\0\\\\1\\\\0\\end{matrix}\\right], \\quad \\left[\\begin{matrix}1\\\\- \\frac{1}{2}\\\\0\\\\0\\\\1\\end{matrix}\\right]\\right ]$$",
            "text/plain": [
              "⎡⎡-15⎤  ⎡0⎤  ⎡ 1  ⎤⎤\n",
              "⎢⎢   ⎥  ⎢ ⎥  ⎢    ⎥⎥\n",
              "⎢⎢ 6 ⎥  ⎢0⎥  ⎢-1/2⎥⎥\n",
              "⎢⎢   ⎥  ⎢ ⎥  ⎢    ⎥⎥\n",
              "⎢⎢ 1 ⎥, ⎢0⎥, ⎢ 0  ⎥⎥\n",
              "⎢⎢   ⎥  ⎢ ⎥  ⎢    ⎥⎥\n",
              "⎢⎢ 0 ⎥  ⎢1⎥  ⎢ 0  ⎥⎥\n",
              "⎢⎢   ⎥  ⎢ ⎥  ⎢    ⎥⎥\n",
              "⎣⎣ 0 ⎦  ⎣0⎦  ⎣ 1  ⎦⎦"
            ]
          },
          "metadata": {
            "tags": []
          },
          "execution_count": 118
        }
      ]
    },
    {
      "cell_type": "code",
      "metadata": {
        "colab": {
          "base_uri": "https://localhost:8080/",
          "height": 58
        },
        "id": "WvgD2mnuTc9F",
        "outputId": "2a6b1526-7ede-4a2b-a984-ef2877166801"
      },
      "source": [
        "M.columnspace()"
      ],
      "execution_count": null,
      "outputs": [
        {
          "output_type": "execute_result",
          "data": {
            "text/latex": "$$\\left [ \\left[\\begin{matrix}1\\\\4\\end{matrix}\\right], \\quad \\left[\\begin{matrix}2\\\\10\\end{matrix}\\right]\\right ]$$",
            "text/plain": [
              "⎡⎡1⎤  ⎡2 ⎤⎤\n",
              "⎢⎢ ⎥, ⎢  ⎥⎥\n",
              "⎣⎣4⎦  ⎣10⎦⎦"
            ]
          },
          "metadata": {
            "tags": []
          },
          "execution_count": 119
        }
      ]
    },
    {
      "cell_type": "code",
      "metadata": {
        "colab": {
          "base_uri": "https://localhost:8080/",
          "height": 37
        },
        "id": "VY2f57WITm7Y",
        "outputId": "d91e9129-63fe-4875-f666-b192c7e9141a"
      },
      "source": [
        "M = Matrix([[3,-2,4,-2],[5,3,-3,-2],[5,-2,2,-2],[5,-2,-3,3]])\r\n",
        "M.eigenvals()"
      ],
      "execution_count": null,
      "outputs": [
        {
          "output_type": "execute_result",
          "data": {
            "image/png": "[encoded data removed]",
            "text/latex": "$$\\left \\{ -2 : 1, \\quad 3 : 1, \\quad 5 : 2\\right \\}$$",
            "text/plain": [
              "{-2: 1, 3: 1, 5: 2}"
            ]
          },
          "metadata": {
            "tags": []
          },
          "execution_count": 122
        }
      ]
    },
    {
      "cell_type": "code",
      "metadata": {
        "colab": {
          "base_uri": "https://localhost:8080/",
          "height": 99
        },
        "id": "VR-lyb61UDTH",
        "outputId": "e34061ba-42c5-4be1-f2ff-52743999f647"
      },
      "source": [
        "M.eigenvects()"
      ],
      "execution_count": null,
      "outputs": [
        {
          "output_type": "execute_result",
          "data": {
            "text/latex": "$$\\left [ \\left ( -2, \\quad 1, \\quad \\left [ \\left[\\begin{matrix}0\\\\1\\\\1\\\\1\\end{matrix}\\right]\\right ]\\right ), \\quad \\left ( 3, \\quad 1, \\quad \\left [ \\left[\\begin{matrix}1\\\\1\\\\1\\\\1\\end{matrix}\\right]\\right ]\\right ), \\quad \\left ( 5, \\quad 2, \\quad \\left [ \\left[\\begin{matrix}1\\\\1\\\\1\\\\0\\end{matrix}\\right], \\quad \\left[\\begin{matrix}0\\\\-1\\\\0\\\\1\\end{matrix}\\right]\\right ]\\right )\\right ]$$",
            "text/plain": [
              "⎡⎛       ⎡⎡0⎤⎤⎞  ⎛      ⎡⎡1⎤⎤⎞  ⎛      ⎡⎡1⎤  ⎡0 ⎤⎤⎞⎤\n",
              "⎢⎜       ⎢⎢ ⎥⎥⎟  ⎜      ⎢⎢ ⎥⎥⎟  ⎜      ⎢⎢ ⎥  ⎢  ⎥⎥⎟⎥\n",
              "⎢⎜       ⎢⎢1⎥⎥⎟  ⎜      ⎢⎢1⎥⎥⎟  ⎜      ⎢⎢1⎥  ⎢-1⎥⎥⎟⎥\n",
              "⎢⎜-2, 1, ⎢⎢ ⎥⎥⎟, ⎜3, 1, ⎢⎢ ⎥⎥⎟, ⎜5, 2, ⎢⎢ ⎥, ⎢  ⎥⎥⎟⎥\n",
              "⎢⎜       ⎢⎢1⎥⎥⎟  ⎜      ⎢⎢1⎥⎥⎟  ⎜      ⎢⎢1⎥  ⎢0 ⎥⎥⎟⎥\n",
              "⎢⎜       ⎢⎢ ⎥⎥⎟  ⎜      ⎢⎢ ⎥⎥⎟  ⎜      ⎢⎢ ⎥  ⎢  ⎥⎥⎟⎥\n",
              "⎣⎝       ⎣⎣1⎦⎦⎠  ⎝      ⎣⎣1⎦⎦⎠  ⎝      ⎣⎣0⎦  ⎣1 ⎦⎦⎠⎦"
            ]
          },
          "metadata": {
            "tags": []
          },
          "execution_count": 123
        }
      ]
    },
    {
      "cell_type": "code",
      "metadata": {
        "colab": {
          "base_uri": "https://localhost:8080/",
          "height": 99
        },
        "id": "c4ak6-WaUGHl",
        "outputId": "e32862f4-c252-4b5d-9b30-82318d682403"
      },
      "source": [
        "P, D = M.diagonalize()\r\n",
        "P"
      ],
      "execution_count": null,
      "outputs": [
        {
          "output_type": "execute_result",
          "data": {
            "text/latex": "$$\\left[\\begin{matrix}0 & 1 & 1 & 0\\\\1 & 1 & 1 & -1\\\\1 & 1 & 1 & 0\\\\1 & 1 & 0 & 1\\end{matrix}\\right]$$",
            "text/plain": [
              "⎡0  1  1  0 ⎤\n",
              "⎢           ⎥\n",
              "⎢1  1  1  -1⎥\n",
              "⎢           ⎥\n",
              "⎢1  1  1  0 ⎥\n",
              "⎢           ⎥\n",
              "⎣1  1  0  1 ⎦"
            ]
          },
          "metadata": {
            "tags": []
          },
          "execution_count": 124
        }
      ]
    },
    {
      "cell_type": "code",
      "metadata": {
        "colab": {
          "base_uri": "https://localhost:8080/",
          "height": 99
        },
        "id": "n3BioIy9UKM-",
        "outputId": "7d8f2470-1192-4e67-da08-f5474d55e95c"
      },
      "source": [
        "D"
      ],
      "execution_count": null,
      "outputs": [
        {
          "output_type": "execute_result",
          "data": {
            "text/latex": "$$\\left[\\begin{matrix}-2 & 0 & 0 & 0\\\\0 & 3 & 0 & 0\\\\0 & 0 & 5 & 0\\\\0 & 0 & 0 & 5\\end{matrix}\\right]$$",
            "text/plain": [
              "⎡-2  0  0  0⎤\n",
              "⎢           ⎥\n",
              "⎢0   3  0  0⎥\n",
              "⎢           ⎥\n",
              "⎢0   0  5  0⎥\n",
              "⎢           ⎥\n",
              "⎣0   0  0  5⎦"
            ]
          },
          "metadata": {
            "tags": []
          },
          "execution_count": 125
        }
      ]
    },
    {
      "cell_type": "code",
      "metadata": {
        "colab": {
          "base_uri": "https://localhost:8080/",
          "height": 99
        },
        "id": "xpSiiXEhULqG",
        "outputId": "ecd180e7-5c11-4939-b759-5f632faae126"
      },
      "source": [
        "P*D*P**-1"
      ],
      "execution_count": null,
      "outputs": [
        {
          "output_type": "execute_result",
          "data": {
            "text/latex": "$$\\left[\\begin{matrix}3 & -2 & 4 & -2\\\\5 & 3 & -3 & -2\\\\5 & -2 & 2 & -2\\\\5 & -2 & -3 & 3\\end{matrix}\\right]$$",
            "text/plain": [
              "⎡3  -2  4   -2⎤\n",
              "⎢             ⎥\n",
              "⎢5  3   -3  -2⎥\n",
              "⎢             ⎥\n",
              "⎢5  -2  2   -2⎥\n",
              "⎢             ⎥\n",
              "⎣5  -2  -3  3 ⎦"
            ]
          },
          "metadata": {
            "tags": []
          },
          "execution_count": 126
        }
      ]
    },
    {
      "cell_type": "code",
      "metadata": {
        "colab": {
          "base_uri": "https://localhost:8080/"
        },
        "id": "psMcOH8IUPgW",
        "outputId": "149edfc1-6bc1-4b17-8b5d-878fa9a41208"
      },
      "source": [
        "P*D*P**-1==M"
      ],
      "execution_count": null,
      "outputs": [
        {
          "output_type": "execute_result",
          "data": {
            "text/plain": [
              "True"
            ]
          },
          "metadata": {
            "tags": []
          },
          "execution_count": 127
        }
      ]
    },
    {
      "cell_type": "markdown",
      "metadata": {
        "id": "4MbPDSoaMX0p"
      },
      "source": [
        "##### **8.e Possible Issues** FAIL\r\n",
        "- *Zero Testing*\r\n"
      ]
    },
    {
      "cell_type": "code",
      "metadata": {
        "colab": {
          "base_uri": "https://localhost:8080/",
          "height": 37
        },
        "id": "UAPRmOJuMfGB",
        "outputId": "89b01a5b-a0de-4cb8-ce52-e0e9ecbfbe3a"
      },
      "source": [
        "q = Symbol(\"q\", positive=True)\r\n",
        "m =Matrix([[-2*cosh(q/3),      exp(-q),            1],\r\n",
        "           [      exp(q), -2*cosh(q/3),            1],\r\n",
        "           [           1,            1, -2*cosh(q/3)]])\r\n",
        "m.nullspace()"
      ],
      "execution_count": null,
      "outputs": [
        {
          "output_type": "execute_result",
          "data": {
            "image/png": "[encoded data removed]",
            "text/latex": "$$\\left [ \\right ]$$",
            "text/plain": [
              "[]"
            ]
          },
          "metadata": {
            "tags": []
          },
          "execution_count": 129
        }
      ]
    },
    {
      "cell_type": "markdown",
      "metadata": {
        "id": "j3_-iA7vh1Kg"
      },
      "source": [
        "### **9. Advanced Expression Manipulation**"
      ]
    },
    {
      "cell_type": "markdown",
      "metadata": {
        "id": "ojoC-OcDa59-"
      },
      "source": [
        "##### **9.a Understanding Expression Trees**"
      ]
    },
    {
      "cell_type": "code",
      "metadata": {
        "id": "DjlcnThRh65L",
        "colab": {
          "base_uri": "https://localhost:8080/",
          "height": 35
        },
        "outputId": "8136c759-d3a0-4f32-e605-7f1b647a4b45"
      },
      "source": [
        "expr = x**2 + x*y\r\n",
        "srepr(expr)"
      ],
      "execution_count": null,
      "outputs": [
        {
          "output_type": "execute_result",
          "data": {
            "application/vnd.google.colaboratory.intrinsic+json": {
              "type": "string"
            },
            "text/plain": [
              "\"Add(Pow(Symbol('x'), Integer(2)), Mul(Symbol('x'), Symbol('y')))\""
            ]
          },
          "metadata": {
            "tags": []
          },
          "execution_count": 131
        }
      ]
    },
    {
      "cell_type": "code",
      "metadata": {
        "colab": {
          "base_uri": "https://localhost:8080/",
          "height": 35
        },
        "id": "NAtYddiHaNxg",
        "outputId": "e3403596-9ea7-4ae6-abcc-01232b77538a"
      },
      "source": [
        "srepr(x**2)"
      ],
      "execution_count": null,
      "outputs": [
        {
          "output_type": "execute_result",
          "data": {
            "application/vnd.google.colaboratory.intrinsic+json": {
              "type": "string"
            },
            "text/plain": [
              "\"Pow(Symbol('x'), Integer(2))\""
            ]
          },
          "metadata": {
            "tags": []
          },
          "execution_count": 132
        }
      ]
    },
    {
      "cell_type": "code",
      "metadata": {
        "colab": {
          "base_uri": "https://localhost:8080/",
          "height": 39
        },
        "id": "82uDJbFtaQaU",
        "outputId": "32038238-a874-4f33-9b42-aab3aa42bbaf"
      },
      "source": [
        "Pow(x,2)"
      ],
      "execution_count": null,
      "outputs": [
        {
          "output_type": "execute_result",
          "data": {
            "image/png": "[encoded data removed]",
            "text/latex": "$$x^{2}$$",
            "text/plain": [
              " 2\n",
              "x "
            ]
          },
          "metadata": {
            "tags": []
          },
          "execution_count": 133
        }
      ]
    },
    {
      "cell_type": "code",
      "metadata": {
        "colab": {
          "base_uri": "https://localhost:8080/",
          "height": 35
        },
        "id": "01ykzMtwaVdw",
        "outputId": "dcd878de-54bf-4adf-898e-4678f808d171"
      },
      "source": [
        "srepr(x*y)"
      ],
      "execution_count": null,
      "outputs": [
        {
          "output_type": "execute_result",
          "data": {
            "application/vnd.google.colaboratory.intrinsic+json": {
              "type": "string"
            },
            "text/plain": [
              "\"Mul(Symbol('x'), Symbol('y'))\""
            ]
          },
          "metadata": {
            "tags": []
          },
          "execution_count": 135
        }
      ]
    },
    {
      "cell_type": "code",
      "metadata": {
        "colab": {
          "base_uri": "https://localhost:8080/",
          "height": 39
        },
        "id": "fZtblu11aen8",
        "outputId": "43a48204-9c5f-4aef-84b1-4af212612d2c"
      },
      "source": [
        "Mul(x,y)"
      ],
      "execution_count": null,
      "outputs": [
        {
          "output_type": "execute_result",
          "data": {
            "image/png": "[encoded data removed]",
            "text/latex": "$$x y$$",
            "text/plain": [
              "x⋅y"
            ]
          },
          "metadata": {
            "tags": []
          },
          "execution_count": 136
        }
      ]
    },
    {
      "cell_type": "code",
      "metadata": {
        "colab": {
          "base_uri": "https://localhost:8080/",
          "height": 39
        },
        "id": "1y4dDoF5ag3J",
        "outputId": "25b87ce8-c560-4f7e-f619-df34891d9947"
      },
      "source": [
        "Add(Pow(x,2),Mul(x,y))"
      ],
      "execution_count": null,
      "outputs": [
        {
          "output_type": "execute_result",
          "data": {
            "image/png": "[encoded data removed]",
            "text/latex": "$$x^{2} + x y$$",
            "text/plain": [
              " 2      \n",
              "x  + x⋅y"
            ]
          },
          "metadata": {
            "tags": []
          },
          "execution_count": 137
        }
      ]
    },
    {
      "cell_type": "code",
      "metadata": {
        "colab": {
          "base_uri": "https://localhost:8080/",
          "height": 53
        },
        "id": "feOr3GdaamSz",
        "outputId": "79d8255a-5d7f-464b-8658-3ec8fc9cefb5"
      },
      "source": [
        "srepr(sin(x*y)/2 - x**2+1/y)"
      ],
      "execution_count": null,
      "outputs": [
        {
          "output_type": "execute_result",
          "data": {
            "application/vnd.google.colaboratory.intrinsic+json": {
              "type": "string"
            },
            "text/plain": [
              "\"Add(Mul(Integer(-1), Pow(Symbol('x'), Integer(2))), Mul(Rational(1, 2), sin(Mul(Symbol('x'), Symbol('y')))), Pow(Symbol('y'), Integer(-1)))\""
            ]
          },
          "metadata": {
            "tags": []
          },
          "execution_count": 138
        }
      ]
    },
    {
      "cell_type": "code",
      "metadata": {
        "colab": {
          "base_uri": "https://localhost:8080/",
          "height": 35
        },
        "id": "Jdvp_76_asOV",
        "outputId": "2e6a3029-083a-4b90-914f-5a4b2dd20c03"
      },
      "source": [
        "srepr(x-y)"
      ],
      "execution_count": null,
      "outputs": [
        {
          "output_type": "execute_result",
          "data": {
            "application/vnd.google.colaboratory.intrinsic+json": {
              "type": "string"
            },
            "text/plain": [
              "\"Add(Symbol('x'), Mul(Integer(-1), Symbol('y')))\""
            ]
          },
          "metadata": {
            "tags": []
          },
          "execution_count": 139
        }
      ]
    },
    {
      "cell_type": "code",
      "metadata": {
        "colab": {
          "base_uri": "https://localhost:8080/",
          "height": 35
        },
        "id": "4ovCuV2PaxQ2",
        "outputId": "55635011-4cf6-4609-e8ca-2dfdae2c3ff8"
      },
      "source": [
        "expr = x/y\r\n",
        "srepr(expr)"
      ],
      "execution_count": null,
      "outputs": [
        {
          "output_type": "execute_result",
          "data": {
            "application/vnd.google.colaboratory.intrinsic+json": {
              "type": "string"
            },
            "text/plain": [
              "\"Mul(Symbol('x'), Pow(Symbol('y'), Integer(-1)))\""
            ]
          },
          "metadata": {
            "tags": []
          },
          "execution_count": 140
        }
      ]
    },
    {
      "cell_type": "markdown",
      "metadata": {
        "id": "p67mdvdoa_Ka"
      },
      "source": [
        "##### **9.b Recursing through an Expression Tree**\r\n",
        "- *func*\r\n",
        "- *args*\r\n",
        "- *Walking the Tree*"
      ]
    },
    {
      "cell_type": "code",
      "metadata": {
        "colab": {
          "base_uri": "https://localhost:8080/"
        },
        "id": "dBfZeTpra1-1",
        "outputId": "f5f833ac-7c45-44f0-a5bf-def5218322ed"
      },
      "source": [
        "expr = Add(x,x)\r\n",
        "expr.func"
      ],
      "execution_count": null,
      "outputs": [
        {
          "output_type": "execute_result",
          "data": {
            "text/plain": [
              "sympy.core.mul.Mul"
            ]
          },
          "metadata": {
            "tags": []
          },
          "execution_count": 141
        }
      ]
    },
    {
      "cell_type": "code",
      "metadata": {
        "colab": {
          "base_uri": "https://localhost:8080/",
          "height": 39
        },
        "id": "a6alxFINbPR-",
        "outputId": "df825a24-c692-440a-b327-d5815901cdd6"
      },
      "source": [
        "expr"
      ],
      "execution_count": null,
      "outputs": [
        {
          "output_type": "execute_result",
          "data": {
            "image/png": "[encoded data removed]",
            "text/latex": "$$2 x$$",
            "text/plain": [
              "2⋅x"
            ]
          },
          "metadata": {
            "tags": []
          },
          "execution_count": 142
        }
      ]
    },
    {
      "cell_type": "code",
      "metadata": {
        "colab": {
          "base_uri": "https://localhost:8080/",
          "height": 39
        },
        "id": "KXti9RlRbRfs",
        "outputId": "b9ea987b-053e-4697-eb30-dcecd0ebd3a5"
      },
      "source": [
        "expr = 3*y**2*x\r\n",
        "expr.args"
      ],
      "execution_count": null,
      "outputs": [
        {
          "output_type": "execute_result",
          "data": {
            "image/png": "[encoded data removed]",
            "text/latex": "$$\\left ( 3, \\quad x, \\quad y^{2}\\right )$$",
            "text/plain": [
              "⎛       2⎞\n",
              "⎝3, x, y ⎠"
            ]
          },
          "metadata": {
            "tags": []
          },
          "execution_count": 143
        }
      ]
    },
    {
      "cell_type": "code",
      "metadata": {
        "colab": {
          "base_uri": "https://localhost:8080/",
          "height": 39
        },
        "id": "IxX9YLIQb5EH",
        "outputId": "55d46b41-fa26-444d-aa07-6bf2abf7bfb9"
      },
      "source": [
        "expr"
      ],
      "execution_count": null,
      "outputs": [
        {
          "output_type": "execute_result",
          "data": {
            "image/png": "[encoded data removed]",
            "text/latex": "$$3 x y^{2}$$",
            "text/plain": [
              "     2\n",
              "3⋅x⋅y "
            ]
          },
          "metadata": {
            "tags": []
          },
          "execution_count": 144
        }
      ]
    },
    {
      "cell_type": "code",
      "metadata": {
        "colab": {
          "base_uri": "https://localhost:8080/",
          "height": 39
        },
        "id": "LZ8dUBFVb8YN",
        "outputId": "603ae727-f948-49e5-f387-304fb384ce78"
      },
      "source": [
        "expr.args[2].args"
      ],
      "execution_count": null,
      "outputs": [
        {
          "output_type": "execute_result",
          "data": {
            "image/png": "[encoded data removed]",
            "text/latex": "$$\\left ( y, \\quad 2\\right )$$",
            "text/plain": [
              "(y, 2)"
            ]
          },
          "metadata": {
            "tags": []
          },
          "execution_count": 146
        }
      ]
    },
    {
      "cell_type": "code",
      "metadata": {
        "colab": {
          "base_uri": "https://localhost:8080/"
        },
        "id": "hHFWn5kJcE_M",
        "outputId": "04da5474-3262-4f52-b143-c8a8717ebb77"
      },
      "source": [
        "def pre(expr): \r\n",
        "  print(expr) \r\n",
        "  for arg in expr.args: pre(arg)\r\n",
        "\r\n",
        "expr = x*y+1\r\n",
        "pre(expr)"
      ],
      "execution_count": null,
      "outputs": [
        {
          "output_type": "stream",
          "text": [
            "x*y + 1\n",
            "1\n",
            "x*y\n",
            "x\n",
            "y\n"
          ],
          "name": "stdout"
        }
      ]
    },
    {
      "cell_type": "code",
      "metadata": {
        "colab": {
          "base_uri": "https://localhost:8080/"
        },
        "id": "UtrXVXmKcf5F",
        "outputId": "433cda39-dade-4f15-de00-a55c3d8b5d04"
      },
      "source": [
        "for arg in preorder_traversal(expr): print(arg)"
      ],
      "execution_count": null,
      "outputs": [
        {
          "output_type": "stream",
          "text": [
            "x*y + 1\n",
            "1\n",
            "x*y\n",
            "x\n",
            "y\n"
          ],
          "name": "stdout"
        }
      ]
    },
    {
      "cell_type": "markdown",
      "metadata": {
        "id": "JWxnMlTObhT2"
      },
      "source": [
        "##### **9.c Prevent expression evaluation**"
      ]
    },
    {
      "cell_type": "code",
      "metadata": {
        "colab": {
          "base_uri": "https://localhost:8080/"
        },
        "id": "opAyvIG5bpCP",
        "outputId": "07f007cf-281f-41f6-848d-23fdcc49b7ce"
      },
      "source": [
        "from sympy import Add, UnevaluatedExpr, latex\r\n",
        "\r\n",
        "pprint(Add(x,x))\r\n",
        "pprint(Add(x,x, evaluate=False))\r\n",
        "pprint(sympify(\"x + x\", evaluate=False))\r\n",
        "expr = Add(x,x, evaluate=False)\r\n",
        "pprint(expr)\r\n",
        "pprint(expr+x)\r\n",
        "expr = x + UnevaluatedExpr(x)\r\n",
        "pprint(expr)\r\n",
        "pprint(x+expr)\r\n",
        "uexpr = UnevaluatedExpr(S.One*5/7)*UnevaluatedExpr(S.One*3/4)\r\n",
        "pprint(uexpr)\r\n",
        "pprint(x*UnevaluatedExpr(1/x))\r\n",
        "expr1 = UnevaluatedExpr(x+x)\r\n",
        "pprint(expr1)\r\n",
        "expr2 = sympify('x+x',evaluate=False)\r\n",
        "pprint(expr2)\r\n",
        "pprint(UnevaluatedExpr(sympify(\"x+x\",evaluate=False))+y)\r\n",
        "uexpr = UnevaluatedExpr(S.One*5/7)*UnevaluatedExpr(S.One*3/4)\r\n",
        "pprint(latex(uexpr))\r\n",
        "pprint(latex(uexpr.doit()))"
      ],
      "execution_count": null,
      "outputs": [
        {
          "output_type": "stream",
          "text": [
            "2⋅x\n",
            "x + x\n",
            "x + x\n",
            "x + x\n",
            "3⋅x\n",
            "x + x\n",
            "2⋅x + x\n",
            "5/7⋅3/4\n",
            "  1\n",
            "x⋅─\n",
            "  x\n",
            "2⋅x\n",
            "x + x\n",
            "y + x + x\n",
            "\\frac{5}{7} \\frac{3}{4}\n",
            "\\frac{15}{28}\n"
          ],
          "name": "stdout"
        }
      ]
    }
  ]
}